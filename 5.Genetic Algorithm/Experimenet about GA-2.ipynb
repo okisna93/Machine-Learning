{
 "cells": [
  {
   "cell_type": "code",
   "execution_count": 1051,
   "id": "1c974e9f",
   "metadata": {},
   "outputs": [
    {
     "data": {
      "text/plain": [
       "[<matplotlib.lines.Line2D at 0x1fa3788bf40>]"
      ]
     },
     "execution_count": 1051,
     "metadata": {},
     "output_type": "execute_result"
    },
    {
     "data": {
      "image/png": "[encoded data removed]",
      "text/plain": [
       "<Figure size 432x288 with 1 Axes>"
      ]
     },
     "metadata": {},
     "output_type": "display_data"
    }
   ],
   "source": [
    "import matplotlib.pyplot as plt\n",
    "import numpy as np\n",
    "plt.style.use('seaborn-whitegrid')\n",
    "noise_scale = 100\n",
    "number_of_samples = 50\n",
    "x = 25*(np.random.rand(number_of_samples, 1) - 0.8)\n",
    "y = 7 * x + 15 * x**2 + 1 * x**3 + noise_scale*np.random.randn(number_of_samples, 1)\n",
    "plt.plot(x,y,'ro')"
   ]
  },
  {
   "cell_type": "code",
   "execution_count": 1052,
   "id": "71173326",
   "metadata": {},
   "outputs": [],
   "source": [
    "x=[row[0] for row in x]\n",
    "y=[row[0] for row in y]\n",
    "def polyfunc(M):\n",
    "    curve=np.polyfit(x,y,M)\n",
    "    poly=np.poly1d(curve)\n",
    "    new_y=[]\n",
    "    for i in x:\n",
    "        y_update=poly(i)\n",
    "        new_y.append(y_update)\n",
    "    return new_y"
   ]
  },
  {
   "cell_type": "code",
   "execution_count": 1053,
   "id": "5a4b90b4",
   "metadata": {},
   "outputs": [],
   "source": [
    "def plotting_func(M):\n",
    "    ax=plt.subplot()\n",
    "    ax.plot(x,y,'ro',label='Data')\n",
    "    ax.plot(x,polyfunc(M),'o',label='Polygon')\n",
    "    plt.title('M =' + str(M))\n",
    "    plt.xlabel('x Values')\n",
    "    plt.ylabel('y Values')\n",
    "    plt.legend()\n",
    "    plt.show()"
   ]
  },
  {
   "cell_type": "code",
   "execution_count": 1054,
   "id": "1acb41b2",
   "metadata": {},
   "outputs": [
    {
     "data": {
      "image/png": "[encoded data removed]",
      "text/plain": [
       "<Figure size 432x288 with 1 Axes>"
      ]
     },
     "metadata": {},
     "output_type": "display_data"
    }
   ],
   "source": [
    "plotting_func(4)"
   ]
  },
  {
   "cell_type": "code",
   "execution_count": 1055,
   "id": "c7e646b4",
   "metadata": {},
   "outputs": [],
   "source": [
    "num_of_genes = 4"
   ]
  },
  {
   "cell_type": "code",
   "execution_count": 1056,
   "id": "4ddf2229",
   "metadata": {},
   "outputs": [],
   "source": [
    "#Randomly Generation 100 Chromosome\n",
    "def generate_population(n):\n",
    "    chromosom_list=[]\n",
    "    for i in range(n):\n",
    "        chromosome = np.random.randint(low=0, high=25, size=num_of_genes)\n",
    "        chromosom_list.append(chromosome)\n",
    "    return chromosom_list\n",
    "chromosom_list=generate_population(100)"
   ]
  },
  {
   "cell_type": "code",
   "execution_count": 1057,
   "id": "568066e9",
   "metadata": {},
   "outputs": [],
   "source": [
    "# Badness Score\n",
    "def badness_score(chromosom_list):\n",
    "    mse=[]\n",
    "    for gene in chromosom_list:\n",
    "        poly = np.poly1d(gene)\n",
    "        n=len(x)\n",
    "        y_prediction=[]\n",
    "        for a in x:\n",
    "            y=poly(a)\n",
    "            y_prediction.append(y)\n",
    "        mse_calculation=((y-y_prediction)**2)/n\n",
    "        mse.append(mse_calculation)\n",
    "        \n",
    "    MSE_list=[]\n",
    "    for i in mse:\n",
    "        b=sum(i)\n",
    "        MSE_list.append(b)\n",
    "    return MSE_list       \n",
    "\n",
    "error_values=badness_score(chromosom_list)"
   ]
  },
  {
   "cell_type": "code",
   "execution_count": 1058,
   "id": "9d96ebc3",
   "metadata": {},
   "outputs": [],
   "source": [
    "def best_chromosomes_list(chromosom_list,error_values,n_best):\n",
    "    shorted_errors=np.sort(error_values)\n",
    "    smallest_n_errors=shorted_errors[:n_best]\n",
    "    \n",
    "    best_chromosome_index_numbers=[]\n",
    "    for i in smallest_n_errors:\n",
    "        index_value=error_values.index(i)\n",
    "        best_chromosome_index_numbers.append(index_value)\n",
    "\n",
    "    best_chromosomes=[]\n",
    "    for i in best_chromosome_index_numbers:\n",
    "        best_chromosomes.append(chromosom_list[i])\n",
    "\n",
    "    return best_chromosomes\n",
    "best_chromosomes=best_chromosomes_list(chromosom_list,error_values,10)"
   ]
  },
  {
   "cell_type": "code",
   "execution_count": 1059,
   "id": "22141259",
   "metadata": {},
   "outputs": [],
   "source": [
    "# Randomly Picked Singel Point Crossover Operation\n",
    "def crossover(best_chromosomes,crossoverRate=1):\n",
    "    cross_over_genes=[]\n",
    "    for l in range(0,len(best_chromosomes),2):\n",
    "        if (np.random.uniform(0.0, 1.0) <= crossoverRate):\n",
    "            a=best_chromosomes[l]\n",
    "            b=best_chromosomes[l+1]\n",
    "            random_element =np.random.randint(low = 0, high= 4)\n",
    "            a1=a[:random_element]\n",
    "            a2=a[random_element:]\n",
    "            b1=b[random_element:]\n",
    "            b2=b[:random_element]\n",
    "            offspring1=[]\n",
    "            offspring2=[]\n",
    "            for i in range(len(a1)):\n",
    "                offspring1.append(a1[i])\n",
    "                offspring2.append(b2[i])\n",
    "            for k in range(len(b1)):\n",
    "                offspring1.append(b1[k])\n",
    "                offspring2.append(a2[k])\n",
    "            cross_over_genes.append(offspring1)\n",
    "            cross_over_genes.append(offspring2)\n",
    "    return cross_over_genes\n",
    "crossover_list=np.array(crossover(best_chromosomes))"
   ]
  },
  {
   "cell_type": "code",
   "execution_count": 1060,
   "id": "619a6cc7",
   "metadata": {},
   "outputs": [],
   "source": [
    "def mutation(best_chromosomes,mutationRate):\n",
    "    mutated_chromosomes=[]\n",
    "    for gene in best_chromosomes:\n",
    "        if (np.random.uniform(0.0, 1.0) <= mutationRate):\n",
    "            new_gene=gene\n",
    "            #Picking a random element in the gene\n",
    "            random_element =np.random.randint(low = 0, high= 4)     \n",
    "            #Mutation operation--Multiplying Random Element with Random Floating Number\n",
    "            mutated_gene = new_gene[random_element] *  np.random.uniform(0.0, 2.0)\n",
    "            new_gene[random_element]=mutated_gene     \n",
    "            mutated_chromosomes.append(new_gene)\n",
    "    return mutated_chromosomes      "
   ]
  },
  {
   "cell_type": "code",
   "execution_count": 1061,
   "id": "2ae50b4d",
   "metadata": {},
   "outputs": [],
   "source": [
    "def generation_new_genes(iter=500, mutationRate=0.1, crossoverRate=1):\n",
    "    chromosomes = generate_population(100)\n",
    "    for i in range(iter):\n",
    "        # Compute Error of Chromosomes\n",
    "        error = badness_score(chromosomes)\n",
    "\n",
    "        # Keep 10 Best Chromosomes\n",
    "        keptChromos = []\n",
    "        n_best=10\n",
    "        best_chromosomes=best_chromosomes_list(chromosomes,error,n_best)\n",
    "        \n",
    "        #Generation\n",
    "        for i in best_chromosomes:\n",
    "            keptChromos.append(i)\n",
    "\n",
    "        # Generate New Chromosomes\n",
    "        chromosomes = []\n",
    "        for chrIdx in range(0,len(keptChromos),2):\n",
    "            chr1 = keptChromos[chrIdx]\n",
    "            chr2 = keptChromos[chrIdx+1]\n",
    "            chromosomes.append(chr1)\n",
    "            chromosomes.append(chr2)\n",
    "            while len(chromosomes) < (20*((chrIdx/2)+1)):\n",
    "            #Crossover\n",
    "                if (np.random.uniform(0.0, 1.0) <= crossoverRate):\n",
    "                    randIdx = np.random.randint(0,3)\n",
    "                    newChromo = []\n",
    "                    for i1 in range(randIdx+1):\n",
    "                        newChromo.append(chr1[i1])\n",
    "                    for i2 in range(randIdx+1, len(chr2)):\n",
    "                        newChromo.append(chr2[i2])\n",
    "                    chromosomes.append(np.array(newChromo))\n",
    "\n",
    "            # Mutation\n",
    "                if (np.random.uniform(0.0, 1.0) <= mutationRate):\n",
    "                    randIdx = np.random.randint(0,4)\n",
    "                    randMlt = np.random.uniform(0.0, 2.0)\n",
    "                    if np.random.randint(0,10) < 5: tmp = chr1.copy()\n",
    "                    else: tmp = chr2.copy()\n",
    "                    tmp[randIdx] = tmp[randIdx] * randMlt\n",
    "                    chromosomes.append(tmp)\n",
    "\n",
    "      # Pick Best Chromosome\n",
    "        MSE_new=badness_score(chromosomes)\n",
    "        best_new_gene=best_chromosomes_list(chromosomes,MSE_new,1)\n",
    "        return chromosomes"
   ]
  },
  {
   "cell_type": "code",
   "execution_count": 1062,
   "id": "e113eade",
   "metadata": {},
   "outputs": [],
   "source": [
    "GA=generation_new_genes(iter=500, mutationRate=0.10, crossoverRate=1.00)"
   ]
  },
  {
   "cell_type": "code",
   "execution_count": 1063,
   "id": "87563b7f",
   "metadata": {},
   "outputs": [
    {
     "data": {
      "text/plain": [
       "array([ 1, 20, 20, 21])"
      ]
     },
     "execution_count": 1063,
     "metadata": {},
     "output_type": "execute_result"
    }
   ],
   "source": [
    "error=badness_score(GA[0])\n",
    "best=best_chromosomes_list(GA,error,1)\n",
    "best[0]"
   ]
  },
  {
   "cell_type": "code",
   "execution_count": 1064,
   "id": "56a241ee",
   "metadata": {},
   "outputs": [],
   "source": [
    "def generation(iteration,n_population,mutationRate=0.1, crossoverRate=1):\n",
    "    population=generate_population(n_population)\n",
    "    \n",
    "    \n",
    "    for i in range(iteration):\n",
    "        MSE=badness_score(population)\n",
    "        \n",
    "        #Picking n_best chromosomes\n",
    "        n_best=10\n",
    "        best_chromosomes=(best_chromosomes_list(population,MSE,n_best))\n",
    "        population=[]\n",
    "        #Generation\n",
    "        for i in best_chromosomes:\n",
    "            population.append(i)\n",
    "        \n",
    "        cross_over=crossover(best_chromosomes,crossoverRate=1)\n",
    "        for i in cross_over:\n",
    "            population.append(i)\n",
    "        \n",
    "        mutated_offsprings=mutation(cross_over,mutationRate)\n",
    "        for i in mutated_offsprings:\n",
    "            population.append(i)\n",
    "        \n",
    "#     MSE_new=badness_score(new_chromosomes)\n",
    "#     best_new_gene=best_chromosomes_list(new_chromosomes,MSE_new,1)\n",
    "        return population\n"
   ]
  },
  {
   "cell_type": "code",
   "execution_count": 1065,
   "id": "4de41a58",
   "metadata": {},
   "outputs": [],
   "source": [
    "ga2=generation(500,100,mutationRate=0.1,crossoverRate=1)"
   ]
  },
  {
   "cell_type": "code",
   "execution_count": 1066,
   "id": "83844ed9",
   "metadata": {},
   "outputs": [
    {
     "data": {
      "text/plain": [
       "array([ 1, 22, 15, 18])"
      ]
     },
     "execution_count": 1066,
     "metadata": {},
     "output_type": "execute_result"
    }
   ],
   "source": [
    "error2=badness_score(ga2[0])\n",
    "best2=best_chromosomes_list(ga2,error2,1)\n",
    "best2[0]"
   ]
  },
  {
   "cell_type": "code",
   "execution_count": 1067,
   "id": "c23ee74f",
   "metadata": {},
   "outputs": [],
   "source": [
    "poly2 = np.poly1d(best2[0])\n",
    "prediction2=[]\n",
    "for a in x:\n",
    "    y_new=poly2(a)\n",
    "    prediction2.append(y_new) "
   ]
  },
  {
   "cell_type": "code",
   "execution_count": 1068,
   "id": "428327e3",
   "metadata": {},
   "outputs": [],
   "source": [
    "poly = np.poly1d(best[0])\n",
    "prediction=[]\n",
    "for a in x:\n",
    "    y_new=poly(a)\n",
    "    prediction.append(y_new) "
   ]
  },
  {
   "cell_type": "code",
   "execution_count": 1069,
   "id": "47ade178",
   "metadata": {},
   "outputs": [
    {
     "data": {
      "image/png": "[encoded data removed]",
      "text/plain": [
       "<Figure size 432x288 with 1 Axes>"
      ]
     },
     "metadata": {},
     "output_type": "display_data"
    }
   ],
   "source": [
    "ax=plt.subplot()\n",
    "ax.plot(x,y,'ro',label='Data')\n",
    "ax.plot(x,prediction,'o',label='Genetic Algorithm',color='y')\n",
    "ax.plot(x,polyfunc(4),'o',label='Polygon',color='g')\n",
    "ax.plot(x,prediction2,'o',label='GA',color='b')\n",
    "plt.xlabel('x Values')\n",
    "plt.ylabel('y Values')\n",
    "plt.legend()\n",
    "plt.show()"
   ]
  },
  {
   "cell_type": "code",
   "execution_count": null,
   "id": "0d55f7e3",
   "metadata": {},
   "outputs": [],
   "source": []
  },
  {
   "cell_type": "code",
   "execution_count": null,
   "id": "38ee0301",
   "metadata": {},
   "outputs": [],
   "source": []
  },
  {
   "cell_type": "code",
   "execution_count": null,
   "id": "33e8cddc",
   "metadata": {},
   "outputs": [],
   "source": []
  },
  {
   "cell_type": "code",
   "execution_count": null,
   "id": "d153c74f",
   "metadata": {},
   "outputs": [],
   "source": []
  }
 ],
 "metadata": {
  "kernelspec": {
   "display_name": "Python 3 (ipykernel)",
   "language": "python",
   "name": "python3"
  },
  "language_info": {
   "codemirror_mode": {
    "name": "ipython",
    "version": 3
   },
   "file_extension": ".py",
   "mimetype": "text/x-python",
   "name": "python",
   "nbconvert_exporter": "python",
   "pygments_lexer": "ipython3",
   "version": "3.9.7"
  }
 },
 "nbformat": 4,
 "nbformat_minor": 5
}
