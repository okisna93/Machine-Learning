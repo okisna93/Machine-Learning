{
 "cells": [
  {
   "cell_type": "code",
   "execution_count": 160,
   "id": "43a0146d",
   "metadata": {},
   "outputs": [],
   "source": [
    "import pandas as pd\n",
    "import numpy as np \n",
    "import matplotlib.pyplot as plt\n",
    "import seaborn as sns\n",
    "from sklearn.model_selection import train_test_split\n",
    "import random"
   ]
  },
  {
   "cell_type": "code",
   "execution_count": 161,
   "id": "4ea41282",
   "metadata": {},
   "outputs": [
    {
     "name": "stdout",
     "output_type": "stream",
     "text": [
      "['6.1101,17.592', '5.5277,9.1302', '8.5186,13.662', '7.0032,11.854', '5.8598,6.8233', '8.3829,11.886', '7.4764,4.3483', '8.5781,12', '6.4862,6.5987', '5.0546,3.8166', '5.7107,3.2522', '14.164,15.505', '5.734,3.1551', '8.4084,7.2258', '5.6407,0.71618', '5.3794,3.5129', '6.3654,5.3048', '5.1301,0.56077', '6.4296,3.6518', '7.0708,5.3893', '6.1891,3.1386', '20.27,21.767', '5.4901,4.263', '6.3261,5.1875', '5.5649,3.0825', '18.945,22.638', '12.828,13.501', '10.957,7.0467', '13.176,14.692', '22.203,24.147', '5.2524,-1.22', '6.5894,5.9966', '9.2482,12.134', '5.8918,1.8495', '8.2111,6.5426', '7.9334,4.5623', '8.0959,4.1164', '5.6063,3.3928', '12.836,10.117', '6.3534,5.4974', '5.4069,0.55657', '6.8825,3.9115', '11.708,5.3854', '5.7737,2.4406', '7.8247,6.7318', '7.0931,1.0463', '5.0702,5.1337', '5.8014,1.844', '11.7,8.0043', '5.5416,1.0179', '7.5402,6.7504', '5.3077,1.8396', '7.4239,4.2885', '7.6031,4.9981', '6.3328,1.4233', '6.3589,-1.4211', '6.2742,2.4756', '5.6397,4.6042', '9.3102,3.9624', '9.4536,5.4141', '8.8254,5.1694', '5.1793,-0.74279', '21.279,17.929', '14.908,12.054', '18.959,17.054', '7.2182,4.8852', '8.2951,5.7442', '10.236,7.7754', '5.4994,1.0173', '20.341,20.992', '10.136,6.6799', '7.3345,4.0259', '6.0062,1.2784', '7.2259,3.3411', '5.0269,-2.6807', '6.5479,0.29678', '7.5386,3.8845', '5.0365,5.7014', '10.274,6.7526', '5.1077,2.0576', '5.7292,0.47953', '5.1884,0.20421', '6.3557,0.67861', '9.7687,7.5435', '6.5159,5.3436', '8.5172,4.2415', '9.1802,6.7981', '6.002,0.92695', '5.5204,0.152', '5.0594,2.8214', '5.7077,1.8451', '7.6366,4.2959', '5.8707,7.2029', '5.3054,1.9869', '8.2934,0.14454', '13.394,9.0551', '5.4369,0.61705']\n"
     ]
    }
   ],
   "source": [
    "with open('data2.txt') as i:\n",
    "    lines = [line.rstrip('\\n') for line in i]\n",
    "print(lines)"
   ]
  },
  {
   "cell_type": "code",
   "execution_count": 162,
   "id": "520a2a93",
   "metadata": {},
   "outputs": [],
   "source": [
    "x=[]\n",
    "y=[]\n",
    "for i in range(len(lines)):\n",
    "    update=lines[i].split(',')\n",
    "    x.append(update[0])\n",
    "    y.append(update[1])"
   ]
  },
  {
   "cell_type": "code",
   "execution_count": 163,
   "id": "bb3b125b",
   "metadata": {},
   "outputs": [],
   "source": [
    "x_data=[]\n",
    "y_data=[]\n",
    "for i in range(len(x)):\n",
    "    x_data.append(float(x[i]))\n",
    "    y_data.append(float(y[i]))"
   ]
  },
  {
   "cell_type": "code",
   "execution_count": 164,
   "id": "f6ceedbe",
   "metadata": {},
   "outputs": [
    {
     "data": {
      "text/html": [
       "<div>\n",
       "<style scoped>\n",
       "    .dataframe tbody tr th:only-of-type {\n",
       "        vertical-align: middle;\n",
       "    }\n",
       "\n",
       "    .dataframe tbody tr th {\n",
       "        vertical-align: top;\n",
       "    }\n",
       "\n",
       "    .dataframe thead th {\n",
       "        text-align: right;\n",
       "    }\n",
       "</style>\n",
       "<table border=\"1\" class=\"dataframe\">\n",
       "  <thead>\n",
       "    <tr style=\"text-align: right;\">\n",
       "      <th></th>\n",
       "      <th>x</th>\n",
       "      <th>y</th>\n",
       "    </tr>\n",
       "  </thead>\n",
       "  <tbody>\n",
       "    <tr>\n",
       "      <th>0</th>\n",
       "      <td>6.1101</td>\n",
       "      <td>17.59200</td>\n",
       "    </tr>\n",
       "    <tr>\n",
       "      <th>1</th>\n",
       "      <td>5.5277</td>\n",
       "      <td>9.13020</td>\n",
       "    </tr>\n",
       "    <tr>\n",
       "      <th>2</th>\n",
       "      <td>8.5186</td>\n",
       "      <td>13.66200</td>\n",
       "    </tr>\n",
       "    <tr>\n",
       "      <th>3</th>\n",
       "      <td>7.0032</td>\n",
       "      <td>11.85400</td>\n",
       "    </tr>\n",
       "    <tr>\n",
       "      <th>4</th>\n",
       "      <td>5.8598</td>\n",
       "      <td>6.82330</td>\n",
       "    </tr>\n",
       "    <tr>\n",
       "      <th>...</th>\n",
       "      <td>...</td>\n",
       "      <td>...</td>\n",
       "    </tr>\n",
       "    <tr>\n",
       "      <th>92</th>\n",
       "      <td>5.8707</td>\n",
       "      <td>7.20290</td>\n",
       "    </tr>\n",
       "    <tr>\n",
       "      <th>93</th>\n",
       "      <td>5.3054</td>\n",
       "      <td>1.98690</td>\n",
       "    </tr>\n",
       "    <tr>\n",
       "      <th>94</th>\n",
       "      <td>8.2934</td>\n",
       "      <td>0.14454</td>\n",
       "    </tr>\n",
       "    <tr>\n",
       "      <th>95</th>\n",
       "      <td>13.3940</td>\n",
       "      <td>9.05510</td>\n",
       "    </tr>\n",
       "    <tr>\n",
       "      <th>96</th>\n",
       "      <td>5.4369</td>\n",
       "      <td>0.61705</td>\n",
       "    </tr>\n",
       "  </tbody>\n",
       "</table>\n",
       "<p>97 rows × 2 columns</p>\n",
       "</div>"
      ],
      "text/plain": [
       "          x         y\n",
       "0    6.1101  17.59200\n",
       "1    5.5277   9.13020\n",
       "2    8.5186  13.66200\n",
       "3    7.0032  11.85400\n",
       "4    5.8598   6.82330\n",
       "..      ...       ...\n",
       "92   5.8707   7.20290\n",
       "93   5.3054   1.98690\n",
       "94   8.2934   0.14454\n",
       "95  13.3940   9.05510\n",
       "96   5.4369   0.61705\n",
       "\n",
       "[97 rows x 2 columns]"
      ]
     },
     "execution_count": 164,
     "metadata": {},
     "output_type": "execute_result"
    }
   ],
   "source": [
    "data=pd.DataFrame(data=x_data,columns=['x'])\n",
    "data['y']=pd.DataFrame(y_data)\n",
    "data"
   ]
  },
  {
   "cell_type": "markdown",
   "id": "5f45f41d",
   "metadata": {},
   "source": [
    "### 1-Plotting Data"
   ]
  },
  {
   "cell_type": "code",
   "execution_count": 165,
   "id": "adeacf9c",
   "metadata": {},
   "outputs": [
    {
     "data": {
      "image/png": "[encoded data removed]",
      "text/plain": [
       "<Figure size 432x288 with 1 Axes>"
      ]
     },
     "metadata": {
      "needs_background": "light"
     },
     "output_type": "display_data"
    }
   ],
   "source": [
    "data.plot(kind='scatter',x='x',y='y',color='red')\n",
    "plt.show()"
   ]
  },
  {
   "cell_type": "markdown",
   "id": "54940422",
   "metadata": {},
   "source": [
    "### 2-Normal Equation"
   ]
  },
  {
   "cell_type": "code",
   "execution_count": 166,
   "id": "859c59dd",
   "metadata": {},
   "outputs": [
    {
     "name": "stdout",
     "output_type": "stream",
     "text": [
      "w Values\n",
      "-------------------------\n",
      "[-3.89578088  1.19303364]\n"
     ]
    }
   ],
   "source": [
    "bias = np.ones((len(data['x'].values),1))\n",
    "x = data['x'].values\n",
    "x = np.reshape(x,(len(data['x'].values),1))\n",
    "x = np.append(bias,x,axis=1)\n",
    "y = data['y'].values\n",
    "w = (np.linalg.inv(np.transpose(x).dot(x))).dot(np.transpose(x).dot(y))\n",
    "print('w Values')\n",
    "print('-------------------------')\n",
    "print(w)"
   ]
  },
  {
   "cell_type": "code",
   "execution_count": 167,
   "id": "f2490006",
   "metadata": {},
   "outputs": [],
   "source": [
    "function_values=[]\n",
    "for i in data['x'].values:\n",
    "    y_new=w[0]+w[1]*i\n",
    "    function_values.append(y_new)"
   ]
  },
  {
   "cell_type": "code",
   "execution_count": 168,
   "id": "53cb4860",
   "metadata": {},
   "outputs": [
    {
     "data": {
      "image/png": "[encoded data removed]",
      "text/plain": [
       "<Figure size 432x288 with 1 Axes>"
      ]
     },
     "metadata": {
      "needs_background": "light"
     },
     "output_type": "display_data"
    }
   ],
   "source": [
    "data.plot(kind='scatter',x='x',y='y',color='red')\n",
    "plt.plot(data['x'].values,function_values)\n",
    "plt.show()"
   ]
  },
  {
   "cell_type": "markdown",
   "id": "93f865a3",
   "metadata": {},
   "source": [
    "### 3- Batch Gradient Descent and Stochastic Gradient Descent"
   ]
  },
  {
   "cell_type": "markdown",
   "id": "98767b5b",
   "metadata": {},
   "source": [
    "#### a-Splitting Dataset"
   ]
  },
  {
   "cell_type": "code",
   "execution_count": 169,
   "id": "b608e5f4",
   "metadata": {},
   "outputs": [
    {
     "name": "stdout",
     "output_type": "stream",
     "text": [
      "Size of the Training and the Testing Sets\n",
      "x_train---> 77\n",
      "y_train---> 77\n",
      "x_test---> 20\n",
      "y_test---> 20\n"
     ]
    }
   ],
   "source": [
    "x=data['x'].values\n",
    "y=data['y'].values\n",
    "\n",
    "#Spliting dataset into 80% for training and 20% for testing\n",
    "\n",
    "x_train, x_test, y_train, y_test = train_test_split(x, y, test_size=0.20)\n",
    "\n",
    "print('Size of the Training and the Testing Sets')\n",
    "print('x_train--->',np.size(x_train))\n",
    "print('y_train--->',np.size(y_train))\n",
    "\n",
    "print('x_test--->',np.size(x_test))\n",
    "print('y_test--->',np.size(y_test))"
   ]
  },
  {
   "cell_type": "code",
   "execution_count": 179,
   "id": "fcc53134",
   "metadata": {},
   "outputs": [],
   "source": [
    "def MSE(x_data, y_data, w):\n",
    "    m = float(len(x_data))\n",
    "    MSE_Total = 0.0\n",
    "    for x,y in zip(x_data, y_data):\n",
    "        y_new = np.dot(w, np.array([1.0, x]))\n",
    "        MSE_Total += (y_new - y) ** 2\n",
    "    \n",
    "    MSE_value = (MSE_Total) / (m*2.0)\n",
    "    \n",
    "    return MSE_value"
   ]
  },
  {
   "cell_type": "code",
   "execution_count": 180,
   "id": "ba4f5ae5",
   "metadata": {},
   "outputs": [],
   "source": [
    "def BatchGradientDescent(x_data, y_data, w, learning_rate, iteration):\n",
    "    \n",
    "    i = 0\n",
    "    m = len(x_data)\n",
    "    MSE_value = np.zeros(iteration)\n",
    "    w_store = np.zeros([2, iteration])\n",
    "    iteration_store=np.zeros(iteration)\n",
    "    \n",
    "    while i < iteration:\n",
    "        MSE_value[i] = MSE(x_data, y_data, w)\n",
    "        w_store[:, i] = w\n",
    "        iteration_store[i]=i\n",
    "        \n",
    "#        print('iteration=',i,'----------MSE=',MSE_value[i])\n",
    "        \n",
    "        for x,y in zip(x_data, y_data):\n",
    "            y_new = np.dot(w, np.array([1.0, x]))\n",
    "            gradient = np.array([1.0, x]) * (y - y_new)\n",
    "            w += learning_rate * gradient/m\n",
    "            \n",
    "        i += 1\n",
    "    \n",
    "    return iteration_store,w, MSE_value, w_store"
   ]
  },
  {
   "cell_type": "code",
   "execution_count": 181,
   "id": "ac6cd5c3",
   "metadata": {},
   "outputs": [],
   "source": [
    "learning_rate_value = 0.02\n",
    "max_iter = 1000\n",
    "iteration_Train,w_new_train, MSE_VAL_Train, w_store_batch_train =\\\n",
    "    BatchGradientDescent(x_train, y_train, w, learning_rate_value, max_iter)"
   ]
  },
  {
   "cell_type": "code",
   "execution_count": 182,
   "id": "6ceb48c2",
   "metadata": {},
   "outputs": [],
   "source": [
    "iteration_Test,w_new_test, MSE_VAL_Test, w_store_batch_test =\\\n",
    "    BatchGradientDescent(x_test, y_test, w, learning_rate_value, max_iter)"
   ]
  },
  {
   "cell_type": "code",
   "execution_count": 183,
   "id": "527655b4",
   "metadata": {},
   "outputs": [
    {
     "data": {
      "image/png": "[encoded data removed]",
      "text/plain": [
       "<Figure size 432x288 with 1 Axes>"
      ]
     },
     "metadata": {
      "needs_background": "light"
     },
     "output_type": "display_data"
    }
   ],
   "source": [
    "#Plotting MSE vs. Iteration for Batch Gradient Descent\n",
    "ax=plt.subplot()\n",
    "ax.plot(iteration_Test,MSE_VAL_Test,label='Testing')\n",
    "ax.plot(iteration_Train,MSE_VAL_Train,label='Training')\n",
    "plt.xlabel('Iterations')\n",
    "plt.ylabel('MSE Values')\n",
    "plt.legend()\n",
    "plt.show()"
   ]
  },
  {
   "cell_type": "code",
   "execution_count": 184,
   "id": "3aba1c92",
   "metadata": {},
   "outputs": [],
   "source": [
    "learning_rates=[0.01,0.02,0.03,0.04,0.05,0.06,0.07,0.08,0.09,0.1]\n",
    "MSE_Val_List_Train=[]\n",
    "MSE_Val_List_Test=[]\n",
    "learning_list=[]\n",
    "\n",
    "for learning_rate_value in learning_rates:\n",
    "    max_iter = 1000\n",
    "    \n",
    "    iteration_Train,w_new_train, MSE_VAL_Train, w_store_batch_train =\\\n",
    "        BatchGradientDescent(x_train, y_train, w, learning_rate_value, max_iter)\n",
    "    iteration_Test,w_new_test, MSE_VAL_Test, w_store_batch_test =\\\n",
    "        BatchGradientDescent(x_test, y_test, w, learning_rate_value, max_iter)\n",
    "    learning_list.append(learning_rate_value)\n",
    "    \n",
    "    MSE_Val_List_Train.append(MSE_VAL_Train[max_iter-1])\n",
    "    MSE_Val_List_Test.append(MSE_VAL_Test[max_iter-1])"
   ]
  },
  {
   "cell_type": "code",
   "execution_count": 185,
   "id": "7b367ad5",
   "metadata": {},
   "outputs": [
    {
     "data": {
      "image/png": "[encoded data removed]",
      "text/plain": [
       "<Figure size 432x288 with 1 Axes>"
      ]
     },
     "metadata": {
      "needs_background": "light"
     },
     "output_type": "display_data"
    }
   ],
   "source": [
    "ax=plt.subplot()\n",
    "ax.plot(np.array(learning_list),np.array(MSE_Val_List_Test),label='Testing')\n",
    "ax.plot(np.array(learning_list),np.array(MSE_Val_List_Train),label='Training')\n",
    "plt.xlabel('Learning Rates')\n",
    "plt.ylabel('MSE Values')\n",
    "plt.legend()\n",
    "plt.show()"
   ]
  },
  {
   "cell_type": "code",
   "execution_count": 186,
   "id": "077b8f8a",
   "metadata": {},
   "outputs": [],
   "source": [
    "# def StochasticGradientDescent(x_data, y_data, w, learning_rate,iteration):\n",
    "    \n",
    "#     i = 0\n",
    "#     m = np.array(y_data).shape[0]\n",
    "#     MSE_value = np.zeros(m)\n",
    "#     w_store = np.zeros([2, m])\n",
    "              \n",
    "    \n",
    "        \n",
    "#     for i in range(iteration):\n",
    "#         random_index_number=random.randint(0,m-1)\n",
    "#         random_x=x_data[random_index_number]\n",
    "#         random_y=y_data[random_index_number]\n",
    "        \n",
    "#         MSE_value[i] = MSE(random_x, random_y, w)\n",
    "#         w_store[:, i] = w\n",
    "        \n",
    "#         y_new = np.dot(w, np.array([1.0, random_x]))\n",
    "#         gradient = np.array([1.0, x]) * (random_y - y_new)\n",
    "#         w += learning_rate * gradient/m\n",
    "#         print('iteration=',i,'----------MSE=',MSE_value[i])\n",
    "            \n",
    "    \n",
    "#     return w, MSE_value, w_store"
   ]
  },
  {
   "cell_type": "code",
   "execution_count": 193,
   "id": "e655a468",
   "metadata": {},
   "outputs": [],
   "source": [
    "def S2(x_data, y_data, w, learning_rate, iteration):\n",
    "    \n",
    "    i = 0\n",
    "    m = len(x_data)\n",
    "    MSE_value = np.zeros(iteration)\n",
    "    w_store = np.zeros([2, iteration])\n",
    "    iteration_store=np.zeros(iteration)\n",
    "    \n",
    "    while i < iteration:\n",
    "        random_index_number=random.randint(0,m-1)\n",
    "        random_x=x_data[random_index_number]\n",
    "        random_y=y_data[random_index_number]\n",
    "        \n",
    "        MSE_value[i] = MSE(random_x, random_y, w)\n",
    "        w_store[:, i] = w\n",
    "        iteration_store[i]=i\n",
    "        \n",
    "        print('iteration=',i,'----------MSE=',MSE_value[i])\n",
    "        \n",
    "        for x,y in zip(x_data, y_data):\n",
    "            y_new = np.dot(w, np.array([1.0, random_x]))\n",
    "            gradient = np.array([1.0, random_x]) * (random_x - y_new)\n",
    "            w += learning_rate * gradient/m\n",
    "            \n",
    "        i += 1\n",
    "    \n",
    "    return iteration_store,w, MSE_value, w_store"
   ]
  },
  {
   "cell_type": "code",
   "execution_count": 194,
   "id": "386088d3",
   "metadata": {},
   "outputs": [
    {
     "ename": "TypeError",
     "evalue": "object of type 'numpy.float64' has no len()",
     "output_type": "error",
     "traceback": [
      "\u001b[1;31m---------------------------------------------------------------------------\u001b[0m",
      "\u001b[1;31mTypeError\u001b[0m                                 Traceback (most recent call last)",
      "\u001b[1;32m~\\AppData\\Local\\Temp/ipykernel_5016/361208951.py\u001b[0m in \u001b[0;36m<module>\u001b[1;34m\u001b[0m\n\u001b[0;32m      2\u001b[0m \u001b[0mmax_iter\u001b[0m \u001b[1;33m=\u001b[0m \u001b[1;36m1000\u001b[0m\u001b[1;33m\u001b[0m\u001b[1;33m\u001b[0m\u001b[0m\n\u001b[0;32m      3\u001b[0m \u001b[0miteration_Train\u001b[0m\u001b[1;33m,\u001b[0m\u001b[0mw_new_train\u001b[0m\u001b[1;33m,\u001b[0m \u001b[0mMSE_VAL_Train\u001b[0m\u001b[1;33m,\u001b[0m \u001b[0mw_store_batch_train\u001b[0m \u001b[1;33m=\u001b[0m\u001b[0;31m\\\u001b[0m\u001b[1;33m\u001b[0m\u001b[1;33m\u001b[0m\u001b[0m\n\u001b[1;32m----> 4\u001b[1;33m     \u001b[0mS2\u001b[0m\u001b[1;33m(\u001b[0m\u001b[0mx_train\u001b[0m\u001b[1;33m,\u001b[0m \u001b[0my_train\u001b[0m\u001b[1;33m,\u001b[0m \u001b[0mw\u001b[0m\u001b[1;33m,\u001b[0m \u001b[0mlearning_rate_value\u001b[0m\u001b[1;33m,\u001b[0m \u001b[0mmax_iter\u001b[0m\u001b[1;33m)\u001b[0m\u001b[1;33m\u001b[0m\u001b[1;33m\u001b[0m\u001b[0m\n\u001b[0m",
      "\u001b[1;32m~\\AppData\\Local\\Temp/ipykernel_5016/3825621961.py\u001b[0m in \u001b[0;36mS2\u001b[1;34m(x_data, y_data, w, learning_rate, iteration)\u001b[0m\n\u001b[0;32m     12\u001b[0m         \u001b[0mrandom_y\u001b[0m\u001b[1;33m=\u001b[0m\u001b[0my_data\u001b[0m\u001b[1;33m[\u001b[0m\u001b[0mrandom_index_number\u001b[0m\u001b[1;33m]\u001b[0m\u001b[1;33m\u001b[0m\u001b[1;33m\u001b[0m\u001b[0m\n\u001b[0;32m     13\u001b[0m \u001b[1;33m\u001b[0m\u001b[0m\n\u001b[1;32m---> 14\u001b[1;33m         \u001b[0mMSE_value\u001b[0m\u001b[1;33m[\u001b[0m\u001b[0mi\u001b[0m\u001b[1;33m]\u001b[0m \u001b[1;33m=\u001b[0m \u001b[0mMSE\u001b[0m\u001b[1;33m(\u001b[0m\u001b[0mrandom_x\u001b[0m\u001b[1;33m,\u001b[0m \u001b[0mrandom_y\u001b[0m\u001b[1;33m,\u001b[0m \u001b[0mw\u001b[0m\u001b[1;33m)\u001b[0m\u001b[1;33m\u001b[0m\u001b[1;33m\u001b[0m\u001b[0m\n\u001b[0m\u001b[0;32m     15\u001b[0m         \u001b[0mw_store\u001b[0m\u001b[1;33m[\u001b[0m\u001b[1;33m:\u001b[0m\u001b[1;33m,\u001b[0m \u001b[0mi\u001b[0m\u001b[1;33m]\u001b[0m \u001b[1;33m=\u001b[0m \u001b[0mw\u001b[0m\u001b[1;33m\u001b[0m\u001b[1;33m\u001b[0m\u001b[0m\n\u001b[0;32m     16\u001b[0m         \u001b[0miteration_store\u001b[0m\u001b[1;33m[\u001b[0m\u001b[0mi\u001b[0m\u001b[1;33m]\u001b[0m\u001b[1;33m=\u001b[0m\u001b[0mi\u001b[0m\u001b[1;33m\u001b[0m\u001b[1;33m\u001b[0m\u001b[0m\n",
      "\u001b[1;32m~\\AppData\\Local\\Temp/ipykernel_5016/2364647885.py\u001b[0m in \u001b[0;36mMSE\u001b[1;34m(x_data, y_data, w)\u001b[0m\n\u001b[0;32m      1\u001b[0m \u001b[1;32mdef\u001b[0m \u001b[0mMSE\u001b[0m\u001b[1;33m(\u001b[0m\u001b[0mx_data\u001b[0m\u001b[1;33m,\u001b[0m \u001b[0my_data\u001b[0m\u001b[1;33m,\u001b[0m \u001b[0mw\u001b[0m\u001b[1;33m)\u001b[0m\u001b[1;33m:\u001b[0m\u001b[1;33m\u001b[0m\u001b[1;33m\u001b[0m\u001b[0m\n\u001b[1;32m----> 2\u001b[1;33m     \u001b[0mm\u001b[0m \u001b[1;33m=\u001b[0m \u001b[0mfloat\u001b[0m\u001b[1;33m(\u001b[0m\u001b[0mlen\u001b[0m\u001b[1;33m(\u001b[0m\u001b[0mx_data\u001b[0m\u001b[1;33m)\u001b[0m\u001b[1;33m)\u001b[0m\u001b[1;33m\u001b[0m\u001b[1;33m\u001b[0m\u001b[0m\n\u001b[0m\u001b[0;32m      3\u001b[0m     \u001b[0mMSE_Total\u001b[0m \u001b[1;33m=\u001b[0m \u001b[1;36m0.0\u001b[0m\u001b[1;33m\u001b[0m\u001b[1;33m\u001b[0m\u001b[0m\n\u001b[0;32m      4\u001b[0m     \u001b[1;32mfor\u001b[0m \u001b[0mx\u001b[0m\u001b[1;33m,\u001b[0m\u001b[0my\u001b[0m \u001b[1;32min\u001b[0m \u001b[0mzip\u001b[0m\u001b[1;33m(\u001b[0m\u001b[0mx_data\u001b[0m\u001b[1;33m,\u001b[0m \u001b[0my_data\u001b[0m\u001b[1;33m)\u001b[0m\u001b[1;33m:\u001b[0m\u001b[1;33m\u001b[0m\u001b[1;33m\u001b[0m\u001b[0m\n\u001b[0;32m      5\u001b[0m         \u001b[0my_new\u001b[0m \u001b[1;33m=\u001b[0m \u001b[0mnp\u001b[0m\u001b[1;33m.\u001b[0m\u001b[0mdot\u001b[0m\u001b[1;33m(\u001b[0m\u001b[0mw\u001b[0m\u001b[1;33m,\u001b[0m \u001b[0mnp\u001b[0m\u001b[1;33m.\u001b[0m\u001b[0marray\u001b[0m\u001b[1;33m(\u001b[0m\u001b[1;33m[\u001b[0m\u001b[1;36m1.0\u001b[0m\u001b[1;33m,\u001b[0m \u001b[0mx\u001b[0m\u001b[1;33m]\u001b[0m\u001b[1;33m)\u001b[0m\u001b[1;33m)\u001b[0m\u001b[1;33m\u001b[0m\u001b[1;33m\u001b[0m\u001b[0m\n",
      "\u001b[1;31mTypeError\u001b[0m: object of type 'numpy.float64' has no len()"
     ]
    }
   ],
   "source": [
    "learning_rate_value = 0.02\n",
    "max_iter = 1000\n",
    "iteration_Train,w_new_train, MSE_VAL_Train, w_store_batch_train =\\\n",
    "    S2(x_train, y_train, w, learning_rate_value, max_iter)"
   ]
  },
  {
   "cell_type": "code",
   "execution_count": null,
   "id": "98616bc0",
   "metadata": {},
   "outputs": [],
   "source": []
  }
 ],
 "metadata": {
  "kernelspec": {
   "display_name": "Python 3 (ipykernel)",
   "language": "python",
   "name": "python3"
  },
  "language_info": {
   "codemirror_mode": {
    "name": "ipython",
    "version": 3
   },
   "file_extension": ".py",
   "mimetype": "text/x-python",
   "name": "python",
   "nbconvert_exporter": "python",
   "pygments_lexer": "ipython3",
   "version": "3.9.7"
  }
 },
 "nbformat": 4,
 "nbformat_minor": 5
}
