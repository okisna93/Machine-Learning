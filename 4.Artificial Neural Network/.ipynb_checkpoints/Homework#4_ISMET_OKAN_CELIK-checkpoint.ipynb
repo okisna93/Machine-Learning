{
 "cells": [
  {
   "cell_type": "code",
   "execution_count": 9,
   "id": "37bffe16",
   "metadata": {},
   "outputs": [],
   "source": [
    "import pandas as pd\n",
    "import numpy as np\n",
    "from sklearn.model_selection import train_test_split\n",
    "from sklearn.neural_network import MLPClassifier\n",
    "from sklearn.metrics import classification_report, confusion_matrix"
   ]
  },
  {
   "cell_type": "code",
   "execution_count": 10,
   "id": "f86bbe76",
   "metadata": {},
   "outputs": [
    {
     "data": {
      "text/html": [
       "<div>\n",
       "<style scoped>\n",
       "    .dataframe tbody tr th:only-of-type {\n",
       "        vertical-align: middle;\n",
       "    }\n",
       "\n",
       "    .dataframe tbody tr th {\n",
       "        vertical-align: top;\n",
       "    }\n",
       "\n",
       "    .dataframe thead th {\n",
       "        text-align: right;\n",
       "    }\n",
       "</style>\n",
       "<table border=\"1\" class=\"dataframe\">\n",
       "  <thead>\n",
       "    <tr style=\"text-align: right;\">\n",
       "      <th></th>\n",
       "      <th>pclass</th>\n",
       "      <th>sex</th>\n",
       "      <th>age</th>\n",
       "      <th>sibsp</th>\n",
       "      <th>survived</th>\n",
       "    </tr>\n",
       "  </thead>\n",
       "  <tbody>\n",
       "    <tr>\n",
       "      <th>0</th>\n",
       "      <td>1</td>\n",
       "      <td>0</td>\n",
       "      <td>29.0000</td>\n",
       "      <td>0</td>\n",
       "      <td>1</td>\n",
       "    </tr>\n",
       "    <tr>\n",
       "      <th>1</th>\n",
       "      <td>1</td>\n",
       "      <td>1</td>\n",
       "      <td>0.9167</td>\n",
       "      <td>1</td>\n",
       "      <td>1</td>\n",
       "    </tr>\n",
       "    <tr>\n",
       "      <th>2</th>\n",
       "      <td>1</td>\n",
       "      <td>0</td>\n",
       "      <td>2.0000</td>\n",
       "      <td>1</td>\n",
       "      <td>0</td>\n",
       "    </tr>\n",
       "    <tr>\n",
       "      <th>3</th>\n",
       "      <td>1</td>\n",
       "      <td>1</td>\n",
       "      <td>30.0000</td>\n",
       "      <td>1</td>\n",
       "      <td>0</td>\n",
       "    </tr>\n",
       "    <tr>\n",
       "      <th>4</th>\n",
       "      <td>1</td>\n",
       "      <td>0</td>\n",
       "      <td>25.0000</td>\n",
       "      <td>1</td>\n",
       "      <td>0</td>\n",
       "    </tr>\n",
       "    <tr>\n",
       "      <th>...</th>\n",
       "      <td>...</td>\n",
       "      <td>...</td>\n",
       "      <td>...</td>\n",
       "      <td>...</td>\n",
       "      <td>...</td>\n",
       "    </tr>\n",
       "    <tr>\n",
       "      <th>1304</th>\n",
       "      <td>3</td>\n",
       "      <td>0</td>\n",
       "      <td>14.5000</td>\n",
       "      <td>1</td>\n",
       "      <td>0</td>\n",
       "    </tr>\n",
       "    <tr>\n",
       "      <th>1305</th>\n",
       "      <td>3</td>\n",
       "      <td>0</td>\n",
       "      <td>28.0000</td>\n",
       "      <td>1</td>\n",
       "      <td>0</td>\n",
       "    </tr>\n",
       "    <tr>\n",
       "      <th>1306</th>\n",
       "      <td>3</td>\n",
       "      <td>1</td>\n",
       "      <td>26.5000</td>\n",
       "      <td>0</td>\n",
       "      <td>0</td>\n",
       "    </tr>\n",
       "    <tr>\n",
       "      <th>1307</th>\n",
       "      <td>3</td>\n",
       "      <td>1</td>\n",
       "      <td>27.0000</td>\n",
       "      <td>0</td>\n",
       "      <td>0</td>\n",
       "    </tr>\n",
       "    <tr>\n",
       "      <th>1308</th>\n",
       "      <td>3</td>\n",
       "      <td>1</td>\n",
       "      <td>29.0000</td>\n",
       "      <td>0</td>\n",
       "      <td>0</td>\n",
       "    </tr>\n",
       "  </tbody>\n",
       "</table>\n",
       "<p>1309 rows × 5 columns</p>\n",
       "</div>"
      ],
      "text/plain": [
       "      pclass  sex      age  sibsp  survived\n",
       "0          1    0  29.0000      0         1\n",
       "1          1    1   0.9167      1         1\n",
       "2          1    0   2.0000      1         0\n",
       "3          1    1  30.0000      1         0\n",
       "4          1    0  25.0000      1         0\n",
       "...      ...  ...      ...    ...       ...\n",
       "1304       3    0  14.5000      1         0\n",
       "1305       3    0  28.0000      1         0\n",
       "1306       3    1  26.5000      0         0\n",
       "1307       3    1  27.0000      0         0\n",
       "1308       3    1  29.0000      0         0\n",
       "\n",
       "[1309 rows x 5 columns]"
      ]
     },
     "execution_count": 10,
     "metadata": {},
     "output_type": "execute_result"
    }
   ],
   "source": [
    "data=pd.read_csv('Titanic.csv')\n",
    "\n",
    "# DataFrame=pclass + sex + age + sibsp---> survived\n",
    "\n",
    "data['pclass'].replace('1st',1,inplace=True)\n",
    "data['pclass'].replace('2nd',2,inplace=True)\n",
    "data['pclass'].replace('3rd',3,inplace=True)\n",
    "\n",
    "data['sex'].replace('female',0,inplace=True)\n",
    "data['sex'].replace('male',1,inplace=True)\n",
    "\n",
    "data['age'].fillna(data['age'].median(),inplace=True)\n",
    "\n",
    "data=data[['pclass','sex','age','sibsp','survived']]\n",
    "data"
   ]
  },
  {
   "cell_type": "code",
   "execution_count": 11,
   "id": "da78d694",
   "metadata": {},
   "outputs": [
    {
     "name": "stdout",
     "output_type": "stream",
     "text": [
      "(1047, 4)\n",
      "(262, 4)\n",
      "(1047,)\n",
      "(262,)\n"
     ]
    }
   ],
   "source": [
    "# Step-1\n",
    "# Randomly splitting data into 80%-Trainin 20%-Test\n",
    "x_data=data[['pclass','sex','age','sibsp']]\n",
    "y_data=data['survived']\n",
    "x_train,x_test,y_train,y_test=train_test_split(x_data,y_data,train_size=0.8, random_state=None, shuffle=True, stratify=None)\n",
    "print(np.shape(x_train))\n",
    "print(np.shape(x_test))\n",
    "print(np.shape(y_train))\n",
    "print(np.shape(y_test))"
   ]
  },
  {
   "cell_type": "code",
   "execution_count": 16,
   "id": "b65e54eb",
   "metadata": {},
   "outputs": [],
   "source": [
    "# Step-2\n",
    "ann=MLPClassifier(hidden_layer_sizes=(2,),activation='logistic',solver='adam',\n",
    "                  learning_rate='constant',learning_rate_init=0.01,momentum=0.9,alpha=1e-5,max_iter=5000)\n",
    "ann_fit=ann.fit(x_train,y_train)"
   ]
  },
  {
   "cell_type": "code",
   "execution_count": 17,
   "id": "820594e7",
   "metadata": {},
   "outputs": [],
   "source": [
    "ann_predict=ann_fit.predict(x_test)"
   ]
  },
  {
   "cell_type": "code",
   "execution_count": 18,
   "id": "69a007a8",
   "metadata": {},
   "outputs": [
    {
     "data": {
      "text/html": [
       "<div>\n",
       "<style scoped>\n",
       "    .dataframe tbody tr th:only-of-type {\n",
       "        vertical-align: middle;\n",
       "    }\n",
       "\n",
       "    .dataframe tbody tr th {\n",
       "        vertical-align: top;\n",
       "    }\n",
       "\n",
       "    .dataframe thead th {\n",
       "        text-align: right;\n",
       "    }\n",
       "</style>\n",
       "<table border=\"1\" class=\"dataframe\">\n",
       "  <thead>\n",
       "    <tr style=\"text-align: right;\">\n",
       "      <th></th>\n",
       "      <th>Predicted Survived</th>\n",
       "      <th>Predicted Non-Survived</th>\n",
       "    </tr>\n",
       "  </thead>\n",
       "  <tbody>\n",
       "    <tr>\n",
       "      <th>Survived</th>\n",
       "      <td>60</td>\n",
       "      <td>38</td>\n",
       "    </tr>\n",
       "    <tr>\n",
       "      <th>Non-Survived</th>\n",
       "      <td>13</td>\n",
       "      <td>151</td>\n",
       "    </tr>\n",
       "  </tbody>\n",
       "</table>\n",
       "</div>"
      ],
      "text/plain": [
       "              Predicted Survived  Predicted Non-Survived\n",
       "Survived                      60                      38\n",
       "Non-Survived                  13                     151"
      ]
     },
     "execution_count": 18,
     "metadata": {},
     "output_type": "execute_result"
    }
   ],
   "source": [
    "# Step-3\n",
    "cm=np.array(confusion_matrix(y_test,ann_predict,labels=[1,0]))\n",
    "confusion=pd.DataFrame(cm,index=['Survived','Non-Survived'],columns=['Predicted Survived','Predicted Non-Survived'])\n",
    "confusion"
   ]
  },
  {
   "cell_type": "code",
   "execution_count": 19,
   "id": "73d1f3ec",
   "metadata": {},
   "outputs": [
    {
     "name": "stdout",
     "output_type": "stream",
     "text": [
      "out-of-sample percent survivors correctly predicted (on test set)= 0.821917808219178\n",
      "out-of-sample percent fatalities correctly predicted (on test set)= 0.9207317073170732\n"
     ]
    }
   ],
   "source": [
    "TP=confusion['Predicted Survived']['Survived']\n",
    "FP=confusion['Predicted Survived']['Non-Survived']\n",
    "FN=confusion['Predicted Non-Survived']['Survived']\n",
    "TN=confusion['Predicted Non-Survived']['Non-Survived']\n",
    "\n",
    "# out-of-sample percent survivors correctly predicted (on test set)\n",
    "ANN_Survivors_Correctly_Predicted=TP/(TP+FP)\n",
    "print('out-of-sample percent survivors correctly predicted (on test set)=',ANN_Survivors_Correctly_Predicted)\n",
    "\n",
    "# out-of-sample percent fatalities correctly predicted (on test set) \n",
    "ANN_Fatalities_Correctly_Predicted=TN/(FP+TN)\n",
    "print('out-of-sample percent fatalities correctly predicted (on test set)=',ANN_Fatalities_Correctly_Predicted)"
   ]
  },
  {
   "cell_type": "code",
   "execution_count": 20,
   "id": "f80dca89",
   "metadata": {},
   "outputs": [
    {
     "data": {
      "text/html": [
       "<div>\n",
       "<style scoped>\n",
       "    .dataframe tbody tr th:only-of-type {\n",
       "        vertical-align: middle;\n",
       "    }\n",
       "\n",
       "    .dataframe tbody tr th {\n",
       "        vertical-align: top;\n",
       "    }\n",
       "\n",
       "    .dataframe thead th {\n",
       "        text-align: right;\n",
       "    }\n",
       "</style>\n",
       "<table border=\"1\" class=\"dataframe\">\n",
       "  <thead>\n",
       "    <tr style=\"text-align: right;\">\n",
       "      <th></th>\n",
       "      <th>Random Forest</th>\n",
       "      <th>Neural Network</th>\n",
       "    </tr>\n",
       "  </thead>\n",
       "  <tbody>\n",
       "    <tr>\n",
       "      <th>Percent Survivors Correctly Predicted</th>\n",
       "      <td>0.816092</td>\n",
       "      <td>0.821918</td>\n",
       "    </tr>\n",
       "    <tr>\n",
       "      <th>Percent Fatalities Correctly Predicted</th>\n",
       "      <td>0.805714</td>\n",
       "      <td>0.920732</td>\n",
       "    </tr>\n",
       "  </tbody>\n",
       "</table>\n",
       "</div>"
      ],
      "text/plain": [
       "                                        Random Forest  Neural Network\n",
       "Percent Survivors Correctly Predicted        0.816092        0.821918\n",
       "Percent Fatalities Correctly Predicted       0.805714        0.920732"
      ]
     },
     "execution_count": 20,
     "metadata": {},
     "output_type": "execute_result"
    }
   ],
   "source": [
    "#Step-4\n",
    "\"\"\"\n",
    "Compare the out-of-sample accuracy (as defined in step 3) with the random forest\n",
    "obtained in homework #3. (You can either use a table or plot the results of the two algorithms\n",
    "in one figure). Explain any difference in accuracy\n",
    "\"\"\"\n",
    "\n",
    "RandomForest_Percent_Survivors_Correctly_Predicted= 0.8160919540229885\n",
    "RandomForest_Percent_Fatalities_Correctly_Predicted= 0.8057142857142857\n",
    "\n",
    "\n",
    "data={'Random Forest':[RandomForest_Percent_Survivors_Correctly_Predicted,RandomForest_Percent_Fatalities_Correctly_Predicted],\n",
    "      'Neural Network':[ANN_Survivors_Correctly_Predicted,ANN_Fatalities_Correctly_Predicted]}\n",
    "comparison=pd.DataFrame(data,index=['Percent Survivors Correctly Predicted','Percent Fatalities Correctly Predicted'])\n",
    "comparison\n"
   ]
  },
  {
   "cell_type": "markdown",
   "id": "d6cfa956",
   "metadata": {},
   "source": [
    "Random Forest and Artificial Neural Network almost perform the same in terms of predicting survivors correctly, but Neural Network is slightly better. However, Artificial Neural Network outperforms in terms of predicting Fatalities correctly."
   ]
  },
  {
   "cell_type": "code",
   "execution_count": null,
   "id": "b969d891",
   "metadata": {},
   "outputs": [],
   "source": []
  }
 ],
 "metadata": {
  "kernelspec": {
   "display_name": "Python 3 (ipykernel)",
   "language": "python",
   "name": "python3"
  },
  "language_info": {
   "codemirror_mode": {
    "name": "ipython",
    "version": 3
   },
   "file_extension": ".py",
   "mimetype": "text/x-python",
   "name": "python",
   "nbconvert_exporter": "python",
   "pygments_lexer": "ipython3",
   "version": "3.9.7"
  }
 },
 "nbformat": 4,
 "nbformat_minor": 5
}
