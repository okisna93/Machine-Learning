{
 "cells": [
  {
   "cell_type": "markdown",
   "id": "ee71bf34",
   "metadata": {},
   "source": [
    "### ISMET OKAN CELIK CWID:10472265"
   ]
  },
  {
   "cell_type": "code",
   "execution_count": 144,
   "id": "8a8fe204",
   "metadata": {},
   "outputs": [],
   "source": [
    "import pandas as pd\n",
    "import numpy as np \n",
    "import matplotlib.pyplot as plt\n",
    "import seaborn as sns\n",
    "from sklearn.model_selection import train_test_split"
   ]
  },
  {
   "cell_type": "code",
   "execution_count": 145,
   "id": "fce1f272",
   "metadata": {},
   "outputs": [
    {
     "name": "stdout",
     "output_type": "stream",
     "text": [
      "['6.1101,17.592', '5.5277,9.1302', '8.5186,13.662', '7.0032,11.854', '5.8598,6.8233', '8.3829,11.886', '7.4764,4.3483', '8.5781,12', '6.4862,6.5987', '5.0546,3.8166', '5.7107,3.2522', '14.164,15.505', '5.734,3.1551', '8.4084,7.2258', '5.6407,0.71618', '5.3794,3.5129', '6.3654,5.3048', '5.1301,0.56077', '6.4296,3.6518', '7.0708,5.3893', '6.1891,3.1386', '20.27,21.767', '5.4901,4.263', '6.3261,5.1875', '5.5649,3.0825', '18.945,22.638', '12.828,13.501', '10.957,7.0467', '13.176,14.692', '22.203,24.147', '5.2524,-1.22', '6.5894,5.9966', '9.2482,12.134', '5.8918,1.8495', '8.2111,6.5426', '7.9334,4.5623', '8.0959,4.1164', '5.6063,3.3928', '12.836,10.117', '6.3534,5.4974', '5.4069,0.55657', '6.8825,3.9115', '11.708,5.3854', '5.7737,2.4406', '7.8247,6.7318', '7.0931,1.0463', '5.0702,5.1337', '5.8014,1.844', '11.7,8.0043', '5.5416,1.0179', '7.5402,6.7504', '5.3077,1.8396', '7.4239,4.2885', '7.6031,4.9981', '6.3328,1.4233', '6.3589,-1.4211', '6.2742,2.4756', '5.6397,4.6042', '9.3102,3.9624', '9.4536,5.4141', '8.8254,5.1694', '5.1793,-0.74279', '21.279,17.929', '14.908,12.054', '18.959,17.054', '7.2182,4.8852', '8.2951,5.7442', '10.236,7.7754', '5.4994,1.0173', '20.341,20.992', '10.136,6.6799', '7.3345,4.0259', '6.0062,1.2784', '7.2259,3.3411', '5.0269,-2.6807', '6.5479,0.29678', '7.5386,3.8845', '5.0365,5.7014', '10.274,6.7526', '5.1077,2.0576', '5.7292,0.47953', '5.1884,0.20421', '6.3557,0.67861', '9.7687,7.5435', '6.5159,5.3436', '8.5172,4.2415', '9.1802,6.7981', '6.002,0.92695', '5.5204,0.152', '5.0594,2.8214', '5.7077,1.8451', '7.6366,4.2959', '5.8707,7.2029', '5.3054,1.9869', '8.2934,0.14454', '13.394,9.0551', '5.4369,0.61705']\n"
     ]
    }
   ],
   "source": [
    "with open('data2.txt') as i:\n",
    "    lines = [line.rstrip('\\n') for line in i]\n",
    "print(lines)"
   ]
  },
  {
   "cell_type": "code",
   "execution_count": 146,
   "id": "d46683ef",
   "metadata": {},
   "outputs": [],
   "source": [
    "x=[]\n",
    "y=[]\n",
    "for i in range(len(lines)):\n",
    "    update=lines[i].split(',')\n",
    "    x.append(update[0])\n",
    "    y.append(update[1])"
   ]
  },
  {
   "cell_type": "code",
   "execution_count": 147,
   "id": "087e4a61",
   "metadata": {},
   "outputs": [],
   "source": [
    "x_data=[]\n",
    "y_data=[]\n",
    "for i in range(len(x)):\n",
    "    x_data.append(float(x[i]))\n",
    "    y_data.append(float(y[i]))"
   ]
  },
  {
   "cell_type": "code",
   "execution_count": 148,
   "id": "65585fc2",
   "metadata": {},
   "outputs": [
    {
     "data": {
      "text/html": [
       "<div>\n",
       "<style scoped>\n",
       "    .dataframe tbody tr th:only-of-type {\n",
       "        vertical-align: middle;\n",
       "    }\n",
       "\n",
       "    .dataframe tbody tr th {\n",
       "        vertical-align: top;\n",
       "    }\n",
       "\n",
       "    .dataframe thead th {\n",
       "        text-align: right;\n",
       "    }\n",
       "</style>\n",
       "<table border=\"1\" class=\"dataframe\">\n",
       "  <thead>\n",
       "    <tr style=\"text-align: right;\">\n",
       "      <th></th>\n",
       "      <th>x</th>\n",
       "      <th>y</th>\n",
       "    </tr>\n",
       "  </thead>\n",
       "  <tbody>\n",
       "    <tr>\n",
       "      <th>0</th>\n",
       "      <td>6.1101</td>\n",
       "      <td>17.59200</td>\n",
       "    </tr>\n",
       "    <tr>\n",
       "      <th>1</th>\n",
       "      <td>5.5277</td>\n",
       "      <td>9.13020</td>\n",
       "    </tr>\n",
       "    <tr>\n",
       "      <th>2</th>\n",
       "      <td>8.5186</td>\n",
       "      <td>13.66200</td>\n",
       "    </tr>\n",
       "    <tr>\n",
       "      <th>3</th>\n",
       "      <td>7.0032</td>\n",
       "      <td>11.85400</td>\n",
       "    </tr>\n",
       "    <tr>\n",
       "      <th>4</th>\n",
       "      <td>5.8598</td>\n",
       "      <td>6.82330</td>\n",
       "    </tr>\n",
       "    <tr>\n",
       "      <th>...</th>\n",
       "      <td>...</td>\n",
       "      <td>...</td>\n",
       "    </tr>\n",
       "    <tr>\n",
       "      <th>92</th>\n",
       "      <td>5.8707</td>\n",
       "      <td>7.20290</td>\n",
       "    </tr>\n",
       "    <tr>\n",
       "      <th>93</th>\n",
       "      <td>5.3054</td>\n",
       "      <td>1.98690</td>\n",
       "    </tr>\n",
       "    <tr>\n",
       "      <th>94</th>\n",
       "      <td>8.2934</td>\n",
       "      <td>0.14454</td>\n",
       "    </tr>\n",
       "    <tr>\n",
       "      <th>95</th>\n",
       "      <td>13.3940</td>\n",
       "      <td>9.05510</td>\n",
       "    </tr>\n",
       "    <tr>\n",
       "      <th>96</th>\n",
       "      <td>5.4369</td>\n",
       "      <td>0.61705</td>\n",
       "    </tr>\n",
       "  </tbody>\n",
       "</table>\n",
       "<p>97 rows × 2 columns</p>\n",
       "</div>"
      ],
      "text/plain": [
       "          x         y\n",
       "0    6.1101  17.59200\n",
       "1    5.5277   9.13020\n",
       "2    8.5186  13.66200\n",
       "3    7.0032  11.85400\n",
       "4    5.8598   6.82330\n",
       "..      ...       ...\n",
       "92   5.8707   7.20290\n",
       "93   5.3054   1.98690\n",
       "94   8.2934   0.14454\n",
       "95  13.3940   9.05510\n",
       "96   5.4369   0.61705\n",
       "\n",
       "[97 rows x 2 columns]"
      ]
     },
     "execution_count": 148,
     "metadata": {},
     "output_type": "execute_result"
    }
   ],
   "source": [
    "data=pd.DataFrame(data=x_data,columns=['x'])\n",
    "data['y']=pd.DataFrame(y_data)\n",
    "data"
   ]
  },
  {
   "cell_type": "markdown",
   "id": "52b316b4",
   "metadata": {},
   "source": [
    "### 1-Plotting The Data"
   ]
  },
  {
   "cell_type": "code",
   "execution_count": 149,
   "id": "5a76cdbf",
   "metadata": {},
   "outputs": [
    {
     "data": {
      "image/png": "[encoded data removed]",
      "text/plain": [
       "<Figure size 432x288 with 1 Axes>"
      ]
     },
     "metadata": {
      "needs_background": "light"
     },
     "output_type": "display_data"
    }
   ],
   "source": [
    "data.plot(kind='scatter',x='x',y='y',color='red')\n",
    "plt.show()"
   ]
  },
  {
   "cell_type": "markdown",
   "id": "0af08b11",
   "metadata": {},
   "source": [
    "### 2-Normal Equation"
   ]
  },
  {
   "cell_type": "code",
   "execution_count": 150,
   "id": "41d3f777",
   "metadata": {},
   "outputs": [
    {
     "name": "stdout",
     "output_type": "stream",
     "text": [
      "w Values\n",
      "-------------------------\n",
      "[-3.89578088  1.19303364]\n"
     ]
    }
   ],
   "source": [
    "bias = np.ones((len(data['x'].values),1))\n",
    "x = data['x'].values\n",
    "x = np.reshape(x,(len(data['x'].values),1))\n",
    "x = np.append(bias,x,axis=1)\n",
    "y = data['y'].values\n",
    "w = (np.linalg.inv(np.transpose(x).dot(x))).dot(np.transpose(x).dot(y))\n",
    "print('w Values')\n",
    "print('-------------------------')\n",
    "print(w)"
   ]
  },
  {
   "cell_type": "code",
   "execution_count": 151,
   "id": "72e070ef",
   "metadata": {},
   "outputs": [],
   "source": [
    "function_values=[]\n",
    "for i in data['x'].values:\n",
    "    y_new=w[0]+w[1]*i\n",
    "    function_values.append(y_new)"
   ]
  },
  {
   "cell_type": "code",
   "execution_count": 152,
   "id": "9eda1bba",
   "metadata": {},
   "outputs": [
    {
     "data": {
      "image/png": "[encoded data removed]",
      "text/plain": [
       "<Figure size 432x288 with 1 Axes>"
      ]
     },
     "metadata": {
      "needs_background": "light"
     },
     "output_type": "display_data"
    }
   ],
   "source": [
    "data.plot(kind='scatter',x='x',y='y',color='red')\n",
    "plt.plot(data['x'].values,function_values)\n",
    "plt.show()"
   ]
  },
  {
   "cell_type": "code",
   "execution_count": 174,
   "id": "5df25343",
   "metadata": {},
   "outputs": [],
   "source": [
    "def MSE(x,y,w):\n",
    "    func_value= 1/(2 * len(x))*sum((np.dot(x,w) - y)**2)\n",
    "    return func_value"
   ]
  },
  {
   "cell_type": "code",
   "execution_count": 175,
   "id": "9285792f",
   "metadata": {},
   "outputs": [
    {
     "data": {
      "text/plain": [
       "12.0655257018855"
      ]
     },
     "execution_count": 175,
     "metadata": {},
     "output_type": "execute_result"
    }
   ],
   "source": [
    "MSE(x,y,w)"
   ]
  },
  {
   "cell_type": "code",
   "execution_count": 193,
   "id": "22639e1b",
   "metadata": {},
   "outputs": [],
   "source": [
    "def gradientDescent(x,y,w,alfa,iteration):\n",
    "    i=0\n",
    "    w_values=[]\n",
    "    while i<=iteration:\n",
    "        i+=1\n",
    "        y_new=np.dot(x,w)\n",
    "        y_difference=y_new-y\n",
    "        Delta_MSE=(np.transpose(x).dot(y_difference))\n",
    "        w_new=w-alfa*Delta_MSE\n",
    "        w=w_new\n",
    "        w_values.append(w)\n",
    "    return np.array(w_values)"
   ]
  },
  {
   "cell_type": "code",
   "execution_count": 202,
   "id": "4f8ad91f",
   "metadata": {},
   "outputs": [
    {
     "name": "stderr",
     "output_type": "stream",
     "text": [
      "C:\\Users\\okanc\\AppData\\Local\\Temp/ipykernel_460/3062659697.py:9: RuntimeWarning: invalid value encountered in double_scalars\n",
      "  w_new=w-alfa*Delta_MSE\n",
      "C:\\Users\\okanc\\AppData\\Local\\Temp/ipykernel_460/1130026940.py:2: RuntimeWarning: overflow encountered in square\n",
      "  func_value= 1/(2 * len(x))*sum((np.dot(x,w) - y)**2)\n",
      "C:\\Users\\okanc\\AppData\\Local\\Temp/ipykernel_460/1130026940.py:2: RuntimeWarning: overflow encountered in double_scalars\n",
      "  func_value= 1/(2 * len(x))*sum((np.dot(x,w) - y)**2)\n"
     ]
    }
   ],
   "source": [
    "MSE_Iteration=[]\n",
    "for i in gradientDescent(x,y,w,0.01,1000):\n",
    "    MSE_Values=MSE(x,y,i)\n",
    "    MSE_Iteration.append(MSE_Values)"
   ]
  },
  {
   "cell_type": "code",
   "execution_count": 203,
   "id": "a8ce5ab4",
   "metadata": {},
   "outputs": [
    {
     "name": "stderr",
     "output_type": "stream",
     "text": [
      "C:\\Users\\okanc\\AppData\\Local\\Temp/ipykernel_460/3062659697.py:9: RuntimeWarning: invalid value encountered in double_scalars\n",
      "  w_new=w-alfa*Delta_MSE\n"
     ]
    },
    {
     "data": {
      "image/png": "[encoded data removed]",
      "text/plain": [
       "<Figure size 432x288 with 1 Axes>"
      ]
     },
     "metadata": {
      "needs_background": "light"
     },
     "output_type": "display_data"
    }
   ],
   "source": [
    "w_values=gradientDescent(x,y,w,0.01,1000)\n",
    "plt.plot(w_values,MSE_Iteration)\n",
    "plt.show()"
   ]
  },
  {
   "cell_type": "code",
   "execution_count": 14,
   "id": "38424c55",
   "metadata": {},
   "outputs": [
    {
     "name": "stdout",
     "output_type": "stream",
     "text": [
      "X_train Shape = (77,)\n",
      "X_test Shape = (20,)\n",
      "Y_train Shape = (77,)\n",
      "Y_test Shape = (20,)\n"
     ]
    }
   ],
   "source": [
    "#Data Spliting Operation \n",
    "X=data['x']\n",
    "X=np.array(X)\n",
    "Y=data['y']\n",
    "Y=np.array(Y)\n",
    "\n",
    "# Splitting Data ----> 20 percent of data is used for testing, and 80 percent of data is used for trainning\n",
    "X_train,X_test, Y_train, Y_test=train_test_split(X,Y,test_size=0.2) \n",
    "print('X_train Shape =', X_train.shape)\n",
    "print('X_test Shape =', X_test.shape)\n",
    "print('Y_train Shape =', Y_train.shape)\n",
    "print('Y_test Shape =', Y_test.shape)"
   ]
  }
 ],
 "metadata": {
  "kernelspec": {
   "display_name": "Python 3 (ipykernel)",
   "language": "python",
   "name": "python3"
  },
  "language_info": {
   "codemirror_mode": {
    "name": "ipython",
    "version": 3
   },
   "file_extension": ".py",
   "mimetype": "text/x-python",
   "name": "python",
   "nbconvert_exporter": "python",
   "pygments_lexer": "ipython3",
   "version": "3.9.7"
  }
 },
 "nbformat": 4,
 "nbformat_minor": 5
}
