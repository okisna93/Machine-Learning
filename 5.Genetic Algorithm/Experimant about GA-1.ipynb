{
 "cells": [
  {
   "cell_type": "code",
   "execution_count": 1,
   "id": "fd91b7be",
   "metadata": {},
   "outputs": [
    {
     "data": {
      "text/plain": [
       "[<matplotlib.lines.Line2D at 0x18ad5275a30>]"
      ]
     },
     "execution_count": 1,
     "metadata": {},
     "output_type": "execute_result"
    },
    {
     "data": {
      "image/png": "[encoded data removed]",
      "text/plain": [
       "<Figure size 432x288 with 1 Axes>"
      ]
     },
     "metadata": {},
     "output_type": "display_data"
    }
   ],
   "source": [
    "import matplotlib.pyplot as plt\n",
    "import numpy as np\n",
    "plt.style.use('seaborn-whitegrid')\n",
    "noise_scale = 100\n",
    "number_of_samples = 50\n",
    "x = 25*(np.random.rand(number_of_samples, 1) - 0.8)\n",
    "y = 7 * x + 15 * x**2 + 1 * x**3 + noise_scale*np.random.randn(number_of_samples, 1)\n",
    "plt.plot(x,y,'ro')"
   ]
  },
  {
   "cell_type": "code",
   "execution_count": 2,
   "id": "aa3863a6",
   "metadata": {},
   "outputs": [],
   "source": [
    "x=[row[0] for row in x]\n",
    "y=[row[0] for row in y]\n",
    "def polyfunc(M):\n",
    "    curve=np.polyfit(x,y,M)\n",
    "    poly=np.poly1d(curve)\n",
    "    new_y=[]\n",
    "    for i in x:\n",
    "        y_update=poly(i)\n",
    "        new_y.append(y_update)\n",
    "    return new_y"
   ]
  },
  {
   "cell_type": "code",
   "execution_count": 3,
   "id": "0cec04be",
   "metadata": {},
   "outputs": [],
   "source": [
    "def plotting_func(M):\n",
    "    ax=plt.subplot()\n",
    "    ax.plot(x,y,'ro',label='Data')\n",
    "    ax.plot(x,polyfunc(M),'o',label='Polygon')\n",
    "    plt.title('M =' + str(M))\n",
    "    plt.xlabel('x Values')\n",
    "    plt.ylabel('y Values')\n",
    "    plt.legend()\n",
    "    plt.show()"
   ]
  },
  {
   "cell_type": "code",
   "execution_count": 4,
   "id": "617c8dd8",
   "metadata": {},
   "outputs": [
    {
     "data": {
      "image/png": "[encoded data removed]",
      "text/plain": [
       "<Figure size 432x288 with 1 Axes>"
      ]
     },
     "metadata": {},
     "output_type": "display_data"
    }
   ],
   "source": [
    "plotting_func(4)"
   ]
  },
  {
   "cell_type": "code",
   "execution_count": 5,
   "id": "7336d8d9",
   "metadata": {},
   "outputs": [],
   "source": [
    "num_of_genes = 4\n",
    "sol_per_pop = 100"
   ]
  },
  {
   "cell_type": "code",
   "execution_count": 19,
   "id": "13c476fa",
   "metadata": {},
   "outputs": [],
   "source": [
    "#Randomly Generation 100 Chromosome\n",
    "def generate_population(n):\n",
    "    chromosom_list=[]\n",
    "    for i in range(n):\n",
    "        chromosome = np.random.randint(low=0, high=25, size=num_of_genes)\n",
    "        chromosom_list.append(chromosome)\n",
    "    return chromosom_list\n",
    "chromosom_list=generate_population(sol_per_pop)"
   ]
  },
  {
   "cell_type": "code",
   "execution_count": 20,
   "id": "2a838d4b",
   "metadata": {},
   "outputs": [],
   "source": [
    "# Badness Score\n",
    "def badness_score(chromosom_list,n_best):\n",
    "    badness_score_list=[]\n",
    "    for gene in chromosom_list:\n",
    "        mse=[]\n",
    "        n=len(x)\n",
    "        for a,z in zip(x,y):\n",
    "            y_ga=gene[0] * a + gene[1] * a**2 + gene[2] * a**3+gene[3]\n",
    "            mse_calculation=(z-y_ga)**2\n",
    "            mse.append(mse_calculation)\n",
    "        badness_score_list.append(sum(mse))\n",
    "        \n",
    "    smallest_badness_scores=np.sort(badness_score_list)\n",
    "    smallest_badness_scores=smallest_badness_scores[:n_best]\n",
    "    smallest_badness_scores\n",
    "    return badness_score_list , smallest_badness_scores"
   ]
  },
  {
   "cell_type": "code",
   "execution_count": 21,
   "id": "4a2b10ca",
   "metadata": {},
   "outputs": [],
   "source": [
    "# Badness Score\n",
    "# def badness_score(chromosom_list,n_best):\n",
    "#     error = []\n",
    "#     for chr in chromosom_list:\n",
    "#         poly = np.poly1d(chr)\n",
    "#         preds = []\n",
    "#         for i,k in zip(x,y):\n",
    "#             preds.append(poly(i))\n",
    "#         error.append(np.square(k - preds).mean())\n",
    "\n",
    "#     bestData = sorted(data)[:n]\n",
    "#     bestIdx  = []\n",
    "#     for d in bestData:\n",
    "#         bestIdx.append(data.index(d))\n",
    "#     return bestIdx\n",
    "# badness_score(chromosom_list,10)"
   ]
  },
  {
   "cell_type": "code",
   "execution_count": 22,
   "id": "e78744b3",
   "metadata": {
    "scrolled": true
   },
   "outputs": [],
   "source": [
    "badness_score_list,smallest_badness_scores=badness_score(chromosom_list,10)"
   ]
  },
  {
   "cell_type": "code",
   "execution_count": 23,
   "id": "f87eee0b",
   "metadata": {},
   "outputs": [
    {
     "data": {
      "text/plain": [
       "[89335157281.09021,\n",
       " 14577661946.386183,\n",
       " 21225813711.775314,\n",
       " 109006850259.57663,\n",
       " 91162264468.46405,\n",
       " 196684286633.57153,\n",
       " 208794416824.52386,\n",
       " 38144736457.77381,\n",
       " 4778557737.649606,\n",
       " 15021580468.534672,\n",
       " 52506074565.33422,\n",
       " 3315702037.266839,\n",
       " 16527914735.761751,\n",
       " 88256742220.23659,\n",
       " 4714955186.08048,\n",
       " 45256303175.96485,\n",
       " 103880539958.98508,\n",
       " 27701329759.51858,\n",
       " 81193475895.84033,\n",
       " 2106804700.5693257,\n",
       " 9769643635.66505,\n",
       " 96800138625.3002,\n",
       " 87365984830.38112,\n",
       " 1203586300.145706,\n",
       " 21609093323.81812,\n",
       " 73125518319.20547,\n",
       " 196883978674.0979,\n",
       " 141018594829.48264,\n",
       " 336129182.11962515,\n",
       " 112032464.75576106,\n",
       " 104083792245.71216,\n",
       " 120222845476.536,\n",
       " 175193075675.92737,\n",
       " 12543821740.385952,\n",
       " 118027598643.36035,\n",
       " 2723316195.176851,\n",
       " 15061431872.816856,\n",
       " 7432979219.88006,\n",
       " 35133831551.84391,\n",
       " 2662260776.8570232,\n",
       " 196692071247.92175,\n",
       " 91714672514.11491,\n",
       " 123342527000.83453,\n",
       " 1910933649.8809159,\n",
       " 70069623310.31209,\n",
       " 136818683782.34212,\n",
       " 49364075651.70296,\n",
       " 104022492.65635034,\n",
       " 101738804568.20001,\n",
       " 213096207156.67374,\n",
       " 195726804796.7608,\n",
       " 107616020394.54901,\n",
       " 120957039650.1799,\n",
       " 156175319410.81958,\n",
       " 134510329661.53625,\n",
       " 118464135923.12563,\n",
       " 218970870770.73804,\n",
       " 1804888591.654959,\n",
       " 55315697312.25493,\n",
       " 24780700233.739246,\n",
       " 1247188.1315149935,\n",
       " 98081842.58501191,\n",
       " 2440550605.7334485,\n",
       " 35240482531.337265,\n",
       " 1081558785.5914803,\n",
       " 10479944417.275084,\n",
       " 96289275561.44926,\n",
       " 19201033383.67167,\n",
       " 60690120091.17104,\n",
       " 43472118946.24632,\n",
       " 32822888784.224064,\n",
       " 28324585865.216167,\n",
       " 12129709848.392609,\n",
       " 181856081519.40363,\n",
       " 32197885094.144344,\n",
       " 105232629612.35716,\n",
       " 84020170177.80879,\n",
       " 42539217975.59871,\n",
       " 139421684577.59808,\n",
       " 22620638057.911514,\n",
       " 14867329798.6576,\n",
       " 33061775246.441376,\n",
       " 124265364393.35925,\n",
       " 178830328610.49072,\n",
       " 1358761142.1475585,\n",
       " 11743064479.301233,\n",
       " 672167812.6680765,\n",
       " 197319001030.08002,\n",
       " 25037822926.212685,\n",
       " 30686424848.277195,\n",
       " 925803503.004985,\n",
       " 179184019582.5745,\n",
       " 30601592718.853867,\n",
       " 9498087892.361769,\n",
       " 196716051364.09576,\n",
       " 10672917639.661232,\n",
       " 71572147401.60823,\n",
       " 50709213164.66164,\n",
       " 41753895066.22941,\n",
       " 1374682452.5259206]"
      ]
     },
     "execution_count": 23,
     "metadata": {},
     "output_type": "execute_result"
    }
   ],
   "source": [
    "badness_score_list"
   ]
  },
  {
   "cell_type": "code",
   "execution_count": 24,
   "id": "faded5a4",
   "metadata": {},
   "outputs": [],
   "source": [
    "def best_chromosomes_list(smallest_badness_scores,badness_score_list):\n",
    "    best_chromosome_index_numbers=[]\n",
    "    for i in smallest_badness_scores:\n",
    "        index_value=badness_score_list.index(i)\n",
    "        best_chromosome_index_numbers.append(index_value)\n",
    "\n",
    "    best_chromosomes=[]\n",
    "    for i in best_chromosome_index_numbers:\n",
    "        best_chromosomes.append(chromosom_list[i])\n",
    "\n",
    "#     print('Ten Best Chromosomes \\n -------------------------------------------------------------')\n",
    "    return best_chromosomes"
   ]
  },
  {
   "cell_type": "code",
   "execution_count": 25,
   "id": "5cd05d4d",
   "metadata": {},
   "outputs": [
    {
     "data": {
      "text/plain": [
       "[array([21, 15,  1,  6]),\n",
       " array([15,  7,  1,  2]),\n",
       " array([ 6, 23,  2, 12]),\n",
       " array([ 7,  7,  0, 12]),\n",
       " array([12, 14,  0, 24]),\n",
       " array([20, 21,  0, 22]),\n",
       " array([ 5, 24,  0,  0]),\n",
       " array([16,  4,  2, 24]),\n",
       " array([12, 19,  3, 19]),\n",
       " array([22,  1,  2, 22])]"
      ]
     },
     "execution_count": 25,
     "metadata": {},
     "output_type": "execute_result"
    }
   ],
   "source": [
    "best_chromosomes=best_chromosomes_list(smallest_badness_scores,badness_score_list)\n",
    "best_chromosomes"
   ]
  },
  {
   "cell_type": "code",
   "execution_count": 26,
   "id": "2495a772",
   "metadata": {},
   "outputs": [
    {
     "data": {
      "text/plain": [
       "array([[21, 15,  1,  2],\n",
       "       [15,  7,  1,  6],\n",
       "       [15, 23,  2, 12],\n",
       "       [ 6,  7,  1,  2],\n",
       "       [ 6, 23,  2, 12],\n",
       "       [ 7,  7,  0, 12],\n",
       "       [ 7, 14,  0, 24],\n",
       "       [12,  7,  0, 12],\n",
       "       [12, 14,  0, 22],\n",
       "       [20, 21,  0, 24],\n",
       "       [20, 24,  0,  0],\n",
       "       [ 5, 21,  0, 22],\n",
       "       [ 5, 24,  2, 24],\n",
       "       [16,  4,  0,  0],\n",
       "       [16,  4,  3, 19],\n",
       "       [12, 19,  2, 24],\n",
       "       [12, 19,  2, 22],\n",
       "       [22,  1,  3, 19]])"
      ]
     },
     "execution_count": 26,
     "metadata": {},
     "output_type": "execute_result"
    }
   ],
   "source": [
    "# Randomly Picked Singel Point Crossover Operation\n",
    "def crossover(best_chromosomes):\n",
    "    cross_over_genes=[]\n",
    "    for l in range(len(best_chromosomes)-1):\n",
    "        a=best_chromosomes[l]\n",
    "        b=best_chromosomes[l+1]\n",
    "        random_element = np.random.randint(low = 0, high= 4)\n",
    "        a1=a[:random_element]\n",
    "        a2=a[random_element:]\n",
    "        b1=b[random_element:]\n",
    "        b2=b[:random_element]\n",
    "        offspring1=[]\n",
    "        offspring2=[]\n",
    "        for i in range(len(a1)):\n",
    "            offspring1.append(a1[i])\n",
    "            offspring2.append(b2[i])\n",
    "        for k in range(len(b1)):\n",
    "            offspring1.append(b1[k])\n",
    "            offspring2.append(a2[k])\n",
    "        cross_over_genes.append(offspring1)\n",
    "        cross_over_genes.append(offspring2)\n",
    "    return cross_over_genes\n",
    "crossover_list=np.array(crossover(best_chromosomes))\n",
    "crossover_list"
   ]
  },
  {
   "cell_type": "code",
   "execution_count": 27,
   "id": "bdc16cbd",
   "metadata": {},
   "outputs": [
    {
     "data": {
      "text/plain": [
       "array([[21, 15,  1,  2],\n",
       "       [ 7,  7,  1,  6],\n",
       "       [18, 23,  2, 12],\n",
       "       [ 6,  7,  1,  2],\n",
       "       [ 6, 23,  1, 12],\n",
       "       [ 7,  1,  0, 12],\n",
       "       [ 2, 14,  0, 24],\n",
       "       [12, 11,  0, 12],\n",
       "       [12,  6,  0, 22],\n",
       "       [13, 21,  0, 24],\n",
       "       [20, 24,  0,  0],\n",
       "       [ 5, 21,  0, 39],\n",
       "       [ 5, 24,  2, 20],\n",
       "       [16,  7,  0,  0],\n",
       "       [16,  3,  3, 19],\n",
       "       [ 8, 19,  2, 24],\n",
       "       [12,  5,  2, 22],\n",
       "       [22,  1,  3, 14]])"
      ]
     },
     "execution_count": 27,
     "metadata": {},
     "output_type": "execute_result"
    }
   ],
   "source": [
    "def mutation(best_chromosomes):\n",
    "    mutated_chromosomes=[]\n",
    "    for gene in best_chromosomes:\n",
    "        new_gene=gene\n",
    "        #Picking a random element in the gene\n",
    "        random_element = np.random.randint(low = 0, high= 4)     \n",
    "        #Mutation operation--Multiplying Random Element with Random Floating Number\n",
    "        mutated_gene = new_gene[random_element] * np.random.uniform(0.0, 2.0)\n",
    "        new_gene[random_element]=mutated_gene     \n",
    "        mutated_chromosomes.append(new_gene)\n",
    "    return mutated_chromosomes      \n",
    "mutated_genes=np.array(mutation(crossover_list))\n",
    "mutated_genes"
   ]
  },
  {
   "cell_type": "code",
   "execution_count": 28,
   "id": "6db85703",
   "metadata": {},
   "outputs": [
    {
     "data": {
      "text/plain": [
       "array([ 6, 20, 13,  5])"
      ]
     },
     "execution_count": 28,
     "metadata": {},
     "output_type": "execute_result"
    }
   ],
   "source": [
    "iteration=500\n",
    "population=generate_population(100)\n",
    "\n",
    "def GA(population,iteration):\n",
    "    MSE=[]\n",
    "    Best_Possible_Genes=[]\n",
    "    for i in range(iteration):\n",
    "        n_best=10\n",
    "        badness_score_list , smallest_badness_scores=badness_score(population,n_best)\n",
    "        best_chromosomes=best_chromosomes_list(smallest_badness_scores,badness_score_list)\n",
    "\n",
    "        generated_genes=[]\n",
    "        crossover_generating_genes=crossover(best_chromosomes)\n",
    "        mutation_generating_genes=mutation(crossover_generating_genes)\n",
    "        for i in crossover_generating_genes:\n",
    "            generated_genes.append(i)\n",
    "        for k in mutation_generating_genes:\n",
    "            generated_genes.append(k)\n",
    "\n",
    "        best_badness_score_list , best_badness_scores=badness_score(generated_genes,1)\n",
    "        best_chromosomes=best_chromosomes_list(best_badness_scores,best_badness_score_list)\n",
    "\n",
    "        MSE.append(best_badness_scores)\n",
    "        Best_Possible_Genes.append(best_chromosomes)\n",
    "        \n",
    "    #Finding Smallest Error\n",
    "    MSE=[row[0] for row in MSE]\n",
    "    smallest_MSE=np.sort(MSE)\n",
    "    best_valu_index=MSE.index(smallest_MSE[0])\n",
    "    \n",
    "    #Finding Best Possible Gene\n",
    "    best_gene=Best_Possible_Genes[best_valu_index]\n",
    "    best_gene=best_gene[0]\n",
    "    return best_gene\n",
    "best_gene=GA(population,iteration)\n",
    "best_gene"
   ]
  },
  {
   "cell_type": "code",
   "execution_count": 29,
   "id": "d26d5185",
   "metadata": {},
   "outputs": [
    {
     "data": {
      "text/plain": [
       "[<matplotlib.lines.Line2D at 0x18ad6aa8d60>]"
      ]
     },
     "execution_count": 29,
     "metadata": {},
     "output_type": "execute_result"
    },
    {
     "data": {
      "image/png": "[encoded data removed]",
      "text/plain": [
       "<Figure size 432x288 with 1 Axes>"
      ]
     },
     "metadata": {},
     "output_type": "display_data"
    }
   ],
   "source": [
    "y_ga=[]\n",
    "for i in x:\n",
    "    a = best_gene[0] * i + best_gene[1] * i**2 + best_gene[2] * i**3+best_gene[3]\n",
    "    y_ga.append(a)\n",
    "plt.plot(x,y,'ro')\n",
    "plt.plot(x,y_ga,'o')"
   ]
  },
  {
   "cell_type": "code",
   "execution_count": 32,
   "id": "b9656eab",
   "metadata": {},
   "outputs": [
    {
     "data": {
      "text/plain": [
       "[0, 2, 4, 6, 8]"
      ]
     },
     "execution_count": 32,
     "metadata": {},
     "output_type": "execute_result"
    }
   ],
   "source": [
    "list(range(0,10,2))"
   ]
  },
  {
   "cell_type": "code",
   "execution_count": null,
   "id": "57de13f6",
   "metadata": {},
   "outputs": [],
   "source": []
  }
 ],
 "metadata": {
  "kernelspec": {
   "display_name": "Python 3 (ipykernel)",
   "language": "python",
   "name": "python3"
  },
  "language_info": {
   "codemirror_mode": {
    "name": "ipython",
    "version": 3
   },
   "file_extension": ".py",
   "mimetype": "text/x-python",
   "name": "python",
   "nbconvert_exporter": "python",
   "pygments_lexer": "ipython3",
   "version": "3.9.7"
  }
 },
 "nbformat": 4,
 "nbformat_minor": 5
}
