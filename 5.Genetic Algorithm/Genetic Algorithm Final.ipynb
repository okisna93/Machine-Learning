{
 "cells": [
  {
   "cell_type": "code",
   "execution_count": 520,
   "id": "49f8a37a",
   "metadata": {},
   "outputs": [],
   "source": [
    "# ISMET OKAN CELIK CWID:10472265"
   ]
  },
  {
   "cell_type": "code",
   "execution_count": 521,
   "id": "b8a29ec5",
   "metadata": {},
   "outputs": [
    {
     "data": {
      "text/plain": [
       "[<matplotlib.lines.Line2D at 0x1bf564402e0>]"
      ]
     },
     "execution_count": 521,
     "metadata": {},
     "output_type": "execute_result"
    },
    {
     "data": {
      "image/png": "[encoded data removed]",
      "text/plain": [
       "<Figure size 432x288 with 1 Axes>"
      ]
     },
     "metadata": {},
     "output_type": "display_data"
    }
   ],
   "source": [
    "import matplotlib.pyplot as plt\n",
    "import numpy as np\n",
    "plt.style.use('seaborn-whitegrid')\n",
    "noise_scale = 100\n",
    "number_of_samples = 50\n",
    "x = 25*(np.random.rand(number_of_samples, 1) - 0.8)\n",
    "y = 7 * x + 15 * x**2 + 1 * x**3 + noise_scale*np.random.randn(number_of_samples, 1)\n",
    "plt.plot(x,y,'ro')"
   ]
  },
  {
   "cell_type": "code",
   "execution_count": 522,
   "id": "3856c784",
   "metadata": {},
   "outputs": [],
   "source": [
    "x=[row[0] for row in x]\n",
    "y=[row[0] for row in y]\n",
    "def polyfunc(M):\n",
    "    curve=np.polyfit(x,y,M)\n",
    "    poly=np.poly1d(curve)\n",
    "    new_y=[]\n",
    "    for i in x:\n",
    "        y_update=poly(i)\n",
    "        new_y.append(y_update)\n",
    "    return new_y"
   ]
  },
  {
   "cell_type": "code",
   "execution_count": 523,
   "id": "63a8f2c2",
   "metadata": {},
   "outputs": [],
   "source": [
    "def plotting_func(M):\n",
    "    ax=plt.subplot()\n",
    "    ax.plot(x,y,'ro',label='Data')\n",
    "    ax.plot(x,polyfunc(M),'o',label='Polygon',color='g')\n",
    "    plt.title('M =' + str(M))\n",
    "    plt.xlabel('x Values')\n",
    "    plt.ylabel('y Values')\n",
    "    plt.legend()\n",
    "    plt.show()"
   ]
  },
  {
   "cell_type": "code",
   "execution_count": 524,
   "id": "2d9fcc72",
   "metadata": {},
   "outputs": [
    {
     "data": {
      "image/png": "[encoded data removed]",
      "text/plain": [
       "<Figure size 432x288 with 1 Axes>"
      ]
     },
     "metadata": {},
     "output_type": "display_data"
    }
   ],
   "source": [
    "plotting_func(4)"
   ]
  },
  {
   "cell_type": "code",
   "execution_count": 525,
   "id": "af8f4b30",
   "metadata": {},
   "outputs": [],
   "source": [
    "num_of_genes = 4"
   ]
  },
  {
   "cell_type": "code",
   "execution_count": 526,
   "id": "61d87367",
   "metadata": {},
   "outputs": [],
   "source": [
    "#Randomly Generating 100 Chromosome\n",
    "def generate_population(n):\n",
    "    chromosom_list=[]\n",
    "    for i in range(n):\n",
    "        chromosome = np.random.randint(low=0, high=25, size=num_of_genes)\n",
    "        chromosom_list.append(chromosome)\n",
    "    return chromosom_list\n",
    "chromosom_list=generate_population(100)"
   ]
  },
  {
   "cell_type": "code",
   "execution_count": 527,
   "id": "e03b943a",
   "metadata": {},
   "outputs": [],
   "source": [
    "# Badness Score\n",
    "def badness_score(chromosom_list):\n",
    "    mse=[]\n",
    "    for gene in chromosom_list:\n",
    "        poly = np.poly1d(gene)\n",
    "        n=len(x)\n",
    "        y_prediction=[]\n",
    "        for a in x:\n",
    "            y=poly(a)\n",
    "            y_prediction.append(y)\n",
    "        mse_calculation=((y-y_prediction)**2)/n\n",
    "        mse.append(mse_calculation)\n",
    "        \n",
    "    MSE_list=[]\n",
    "    for i in mse:\n",
    "        b=sum(i)\n",
    "        MSE_list.append(b)\n",
    "    return MSE_list       \n",
    "\n",
    "error_values=badness_score(chromosom_list)"
   ]
  },
  {
   "cell_type": "code",
   "execution_count": 528,
   "id": "7815809d",
   "metadata": {},
   "outputs": [],
   "source": [
    "#Choosing Best Chromosomes\n",
    "def best_chromosomes_list(chromosom_list,error_values,n_best):\n",
    "    shorted_errors=np.sort(error_values)\n",
    "    smallest_n_errors=shorted_errors[:n_best]\n",
    "    \n",
    "    best_chromosome_index_numbers=[]\n",
    "    for i in smallest_n_errors:\n",
    "        index_value=error_values.index(i)\n",
    "        best_chromosome_index_numbers.append(index_value)\n",
    "\n",
    "    best_chromosomes=[]\n",
    "    for i in best_chromosome_index_numbers:\n",
    "        best_chromosomes.append(chromosom_list[i])\n",
    "\n",
    "    return best_chromosomes\n",
    "best_chromosomes=best_chromosomes_list(chromosom_list,error_values,10)"
   ]
  },
  {
   "cell_type": "code",
   "execution_count": 529,
   "id": "bae5e399",
   "metadata": {},
   "outputs": [],
   "source": [
    "# Randomly Picked Single Point Crossover Operation\n",
    "def crossover(best_chromosomes,crossoverRate=1):\n",
    "    cross_over_genes=[]\n",
    "    for l in range(0,len(best_chromosomes),2):\n",
    "        if (np.random.uniform(0.0, 1.0) <= crossoverRate):\n",
    "            a=best_chromosomes[l]\n",
    "            b=best_chromosomes[l+1]\n",
    "            random_element =np.random.randint(low = 0, high= 4)\n",
    "            a1=a[:random_element]\n",
    "            a2=a[random_element:]\n",
    "            b1=b[random_element:]\n",
    "            b2=b[:random_element]\n",
    "            offspring1=[]\n",
    "            offspring2=[]\n",
    "            for i in range(len(a1)):\n",
    "                offspring1.append(a1[i])\n",
    "                offspring2.append(b2[i])\n",
    "            for k in range(len(b1)):\n",
    "                offspring1.append(b1[k])\n",
    "                offspring2.append(a2[k])\n",
    "            cross_over_genes.append(offspring1)\n",
    "            cross_over_genes.append(offspring2)\n",
    "    return cross_over_genes"
   ]
  },
  {
   "cell_type": "code",
   "execution_count": 530,
   "id": "44688c5d",
   "metadata": {},
   "outputs": [],
   "source": [
    "def mutation(best_chromosomes,mutationRate):\n",
    "    mutated_chromosomes=[]\n",
    "    for gene in best_chromosomes:\n",
    "        if (np.random.uniform(0.0, 1.0) <= mutationRate):\n",
    "            new_gene=gene\n",
    "            #Picking a random element in the gene\n",
    "            random_element =np.random.randint(low = 0, high= 4)     \n",
    "            #Mutation operation--Multiplying Random Element with Random Floating Number\n",
    "            mutated_gene = new_gene[random_element] *  np.random.uniform(0.0, 2.0)\n",
    "            new_gene[random_element]=mutated_gene     \n",
    "            mutated_chromosomes.append(new_gene)\n",
    "    return mutated_chromosomes     "
   ]
  },
  {
   "cell_type": "code",
   "execution_count": 531,
   "id": "349045a8",
   "metadata": {},
   "outputs": [],
   "source": [
    "def generation(iteration,n_population,mutationRate=0.1, crossoverRate=1):\n",
    "    population=generate_population(n_population)\n",
    "    \n",
    "    \n",
    "    for i in range(iteration):\n",
    "        MSE=badness_score(population)\n",
    "        \n",
    "        #Picking n_best chromosomes\n",
    "        n_best=10\n",
    "        best_chromosomes=(best_chromosomes_list(population,MSE,n_best))\n",
    "        population=[]\n",
    "        #Generation\n",
    "        for i in best_chromosomes:\n",
    "            population.append(i)\n",
    "        \n",
    "        cross_over=crossover(best_chromosomes,crossoverRate=1)\n",
    "        for i in cross_over:\n",
    "            population.append(i)\n",
    "        \n",
    "        mutated_offsprings=mutation(cross_over,mutationRate)\n",
    "        for i in mutated_offsprings:\n",
    "            population.append(i)\n",
    "        \n",
    "#     MSE_new=badness_score(new_chromosomes)\n",
    "#     best_new_gene=best_chromosomes_list(new_chromosomes,MSE_new,1)\n",
    "        return population"
   ]
  },
  {
   "cell_type": "code",
   "execution_count": 532,
   "id": "f7bdc9a1",
   "metadata": {},
   "outputs": [],
   "source": [
    "ga=generation(500,100,mutationRate=0.1,crossoverRate=1)"
   ]
  },
  {
   "cell_type": "code",
   "execution_count": 533,
   "id": "4aaec16b",
   "metadata": {},
   "outputs": [
    {
     "data": {
      "text/plain": [
       "array([ 1, 17, 23, 14])"
      ]
     },
     "execution_count": 533,
     "metadata": {},
     "output_type": "execute_result"
    }
   ],
   "source": [
    "#Best Gene Choosen Among the Newly Generated Genes\n",
    "error=badness_score(ga[0])\n",
    "best=best_chromosomes_list(ga,error,1)\n",
    "best[0]"
   ]
  },
  {
   "cell_type": "code",
   "execution_count": 534,
   "id": "057ee9b9",
   "metadata": {},
   "outputs": [],
   "source": [
    "poly = np.poly1d(best[0])\n",
    "prediction=[]\n",
    "for a in x:\n",
    "    y_new=poly(a)\n",
    "    prediction.append(y_new) "
   ]
  },
  {
   "cell_type": "code",
   "execution_count": 536,
   "id": "b8462368",
   "metadata": {},
   "outputs": [
    {
     "data": {
      "image/png": "[encoded data removed]",
      "text/plain": [
       "<Figure size 432x288 with 1 Axes>"
      ]
     },
     "metadata": {},
     "output_type": "display_data"
    }
   ],
   "source": [
    "ax=plt.subplot()\n",
    "ax.plot(x,y,'ro',label='Data')\n",
    "ax.plot(x,polyfunc(4),'o',label='Polynomial Function',color='g')\n",
    "ax.plot(x,prediction,'o',label='Genetic Algorithm',color='b')\n",
    "plt.xlabel('x Values')\n",
    "plt.ylabel('y Values')\n",
    "plt.legend()\n",
    "plt.show()"
   ]
  },
  {
   "cell_type": "markdown",
   "id": "3c2b77e9",
   "metadata": {},
   "source": [
    "As we can see Genetic Algorithm performs similarly to Polynomial Function in this graph. Polynomial Function fits the best fit to given data points. However, GA start to make search for the solution and there is a possibility, it may not converge. If there is a mutation operation, it may converge at the end, but it may take a long time.There is no guarantee to reach to the optimality or desired solution. If we run the same algorithm few times than we can see how different solution it may give. When we randomly initialize the population, if the genes are close to the actual solution, then it will converge fast to reach the optimum solution. Still, when we initialize the population, if the genes in the population are not close to the actual solution, then it will take time to converge to find good solution."
   ]
  },
  {
   "cell_type": "code",
   "execution_count": null,
   "id": "5a694d49",
   "metadata": {},
   "outputs": [],
   "source": []
  }
 ],
 "metadata": {
  "kernelspec": {
   "display_name": "Python 3 (ipykernel)",
   "language": "python",
   "name": "python3"
  },
  "language_info": {
   "codemirror_mode": {
    "name": "ipython",
    "version": 3
   },
   "file_extension": ".py",
   "mimetype": "text/x-python",
   "name": "python",
   "nbconvert_exporter": "python",
   "pygments_lexer": "ipython3",
   "version": "3.9.7"
  }
 },
 "nbformat": 4,
 "nbformat_minor": 5
}
